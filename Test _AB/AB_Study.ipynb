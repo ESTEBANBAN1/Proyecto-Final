{
 "cells": [
  {
   "cell_type": "markdown",
   "metadata": {},
   "source": [
    "## Proyecto: \"Evaluación de los resultados de la prueba A/B del nuevo mecanismo de recomendaciones en el sitio web de una tienda en línea\"\n",
    "\n",
    "Del 7 de diciembre de 2020 al 4 de enero de 2021 se llevó a cabo una prueba A/B de una nueva funcionalidad, específicamente un nuevo mecanismo de recomendaciones en el sitio web de una tienda en línea.\n",
    "\n",
    "Se planteó la tarea de analizar los resultados de la prueba. Dentro del ámbito de esta tarea se prevé realizar las siguientes actividades:\n",
    "\n",
    "1.  Verificación de la corrección de los datos y su preprocesamiento.\n",
    "2.  Análisis exploratorio de los resultados de la prueba.\n",
    "3.  Formulación de conclusiones sobre la calidad y los resultados del estudio.\n",
    "\n",
    "-   Para el análisis de los resultados se proporcionaron 4 conjuntos de datos, que contienen la siguiente información:\n",
    "\n",
    "    -   ab_project_marketing_events.csv — calendario de eventos de marketing para el año 2020 con la siguiente estructura:\n",
    "    -   name — nombre del evento de marketing;\n",
    "    -   regions — regiones donde se llevará a cabo la campaña publicitaria;\n",
    "    -   start_dt — fecha de inicio de la campaña;\n",
    "    -   finish_dt — fecha de finalización de la campaña.\n",
    "-   final_ab_new_users.csv — usuarios registrados del 7 al 21 de diciembre de 2020 con la siguiente estructura:\n",
    "    -   user_id — identificador del usuario;\n",
    "    -   first_date — fecha de registro;\n",
    "    -   region — región del usuario;\n",
    "    -   device — dispositivo desde el cual se realizó el registro.\n",
    "-   final_ab_events.csv — acciones de los nuevos usuarios en el período del 7 de diciembre de 2020 al 4 de enero de 2021 con la siguiente estructura:\n",
    "    -   user_id — identificador del usuario;\n",
    "    -   event_dt — fecha y hora del evento;\n",
    "    -   event_name — tipo de evento;\n",
    "    -   details — datos adicionales sobre el evento. Por ejemplo, para las compras, 'purchase', en este campo se almacena el costo de la compra en dólares.\n",
    "-   final_ab_participants.csv — tabla de participantes en las pruebas con la siguiente estructura:\n",
    "    -   user_id — identificador del usuario;\n",
    "    -   ab_test — nombre de la prueba;\n",
    "    -   group — grupo del usuario.\n",
    "\n",
    "## Preparación\n",
    "### Importación de bibliotecas y lectura de datos."
   ]
  },
  {
   "cell_type": "code",
   "execution_count": 1,
   "metadata": {},
   "outputs": [],
   "source": [
    "import pandas as pd\n",
    "from io import BytesIO\n",
    "import requests\n",
    "import math as mth\n",
    "import scipy.stats as st\n",
    "from plotly import graph_objects as go\n",
    "import matplotlib.pyplot as plt\n",
    "import seaborn as sns\n",
    "from pandas.plotting import register_matplotlib_converters\n",
    "register_matplotlib_converters()\n",
    "\n",
    "import psutil\n",
    "import plotly.io as pio\n",
    "pio.renderers.default='notebook'\n",
    "\n",
    "from IPython.display import Image"
   ]
  },
  {
   "cell_type": "code",
   "execution_count": 2,
   "metadata": {},
   "outputs": [],
   "source": [
    "# Importamos las tablas\n",
    "\n",
    "spreadsheet_id = '17FYfKzEDrS0wbzzvB8UVuy_5Vgzld8R_R-2xZF2AJV0'\n",
    "file_name = 'https://docs.google.com/spreadsheets/d/{}/export?format=csv'.format(spreadsheet_id) # TODO Te recomiendo usar f-strings en vez de format. Es más legible.\n",
    "r = requests.get(file_name)\n",
    "final_ab_participants = pd.read_csv(BytesIO(r.content))\n",
    "\n",
    "spreadsheet_id = '1ieuhv8ajykMdbc8WAcM1vvX-gpsE64loavBqyGcSopk'\n",
    "file_name = 'https://docs.google.com/spreadsheets/d/{}/export?format=csv'.format(spreadsheet_id)\n",
    "r = requests.get(file_name)\n",
    "final_ab_events = pd.read_csv(BytesIO(r.content))\n",
    "\n",
    "spreadsheet_id = '1AtN5QdkpmRMD1DYtzCgSIe0-QV_9XBHiPQDzrRr_vE0'\n",
    "file_name = 'https://docs.google.com/spreadsheets/d/{}/export?format=csv'.format(spreadsheet_id)\n",
    "r = requests.get(file_name)\n",
    "final_ab_new_users = pd.read_csv(BytesIO(r.content))\n",
    "\n",
    "spreadsheet_id = '1GY05m4U132se59Cn_4734p5u6L_OfJDA6_wbnxdEB7E'\n",
    "file_name = 'https://docs.google.com/spreadsheets/d/{}/export?format=csv'.format(spreadsheet_id)\n",
    "r = requests.get(file_name)\n",
    "ab_project_marketing_events = pd.read_csv(BytesIO(r.content))"
   ]
  },
  {
   "cell_type": "markdown",
   "metadata": {},
   "source": [
    "## Preprocesamiento de datos\n",
    "### Tabla final_ab_participants"
   ]
  },
  {
   "cell_type": "code",
   "execution_count": 3,
   "metadata": {},
   "outputs": [
    {
     "name": "stdout",
     "output_type": "stream",
     "text": [
      "<class 'pandas.core.frame.DataFrame'>\n",
      "RangeIndex: 18268 entries, 0 to 18267\n",
      "Data columns (total 3 columns):\n",
      " #   Column   Non-Null Count  Dtype \n",
      "---  ------   --------------  ----- \n",
      " 0   user_id  18268 non-null  object\n",
      " 1   group    18268 non-null  object\n",
      " 2   ab_test  18268 non-null  object\n",
      "dtypes: object(3)\n",
      "memory usage: 428.3+ KB\n"
     ]
    }
   ],
   "source": [
    "# Vamos a revisar el tamaño de la tabla y los tipos de datos\n",
    "final_ab_participants.info()"
   ]
  },
  {
   "cell_type": "code",
   "execution_count": 4,
   "metadata": {},
   "outputs": [
    {
     "data": {
      "text/html": [
       "<div>\n",
       "<style scoped>\n",
       "    .dataframe tbody tr th:only-of-type {\n",
       "        vertical-align: middle;\n",
       "    }\n",
       "\n",
       "    .dataframe tbody tr th {\n",
       "        vertical-align: top;\n",
       "    }\n",
       "\n",
       "    .dataframe thead th {\n",
       "        text-align: right;\n",
       "    }\n",
       "</style>\n",
       "<table border=\"1\" class=\"dataframe\">\n",
       "  <thead>\n",
       "    <tr style=\"text-align: right;\">\n",
       "      <th></th>\n",
       "      <th>user_id</th>\n",
       "      <th>group</th>\n",
       "      <th>ab_test</th>\n",
       "    </tr>\n",
       "  </thead>\n",
       "  <tbody>\n",
       "    <tr>\n",
       "      <th>0</th>\n",
       "      <td>D1ABA3E2887B6A73</td>\n",
       "      <td>A</td>\n",
       "      <td>recommender_system_test</td>\n",
       "    </tr>\n",
       "    <tr>\n",
       "      <th>1</th>\n",
       "      <td>A7A3664BD6242119</td>\n",
       "      <td>A</td>\n",
       "      <td>recommender_system_test</td>\n",
       "    </tr>\n",
       "    <tr>\n",
       "      <th>2</th>\n",
       "      <td>DABC14FDDFADD29E</td>\n",
       "      <td>A</td>\n",
       "      <td>recommender_system_test</td>\n",
       "    </tr>\n",
       "    <tr>\n",
       "      <th>3</th>\n",
       "      <td>04988C5DF189632E</td>\n",
       "      <td>A</td>\n",
       "      <td>recommender_system_test</td>\n",
       "    </tr>\n",
       "    <tr>\n",
       "      <th>4</th>\n",
       "      <td>482F14783456D21B</td>\n",
       "      <td>B</td>\n",
       "      <td>recommender_system_test</td>\n",
       "    </tr>\n",
       "  </tbody>\n",
       "</table>\n",
       "</div>"
      ],
      "text/plain": [
       "            user_id group                  ab_test\n",
       "0  D1ABA3E2887B6A73     A  recommender_system_test\n",
       "1  A7A3664BD6242119     A  recommender_system_test\n",
       "2  DABC14FDDFADD29E     A  recommender_system_test\n",
       "3  04988C5DF189632E     A  recommender_system_test\n",
       "4  482F14783456D21B     B  recommender_system_test"
      ]
     },
     "execution_count": 4,
     "metadata": {},
     "output_type": "execute_result"
    }
   ],
   "source": [
    "# Evaluación de la tabla\n",
    "final_ab_participants.head()"
   ]
  },
  {
   "cell_type": "code",
   "execution_count": 5,
   "metadata": {},
   "outputs": [
    {
     "data": {
      "text/html": [
       "<div>\n",
       "<style scoped>\n",
       "    .dataframe tbody tr th:only-of-type {\n",
       "        vertical-align: middle;\n",
       "    }\n",
       "\n",
       "    .dataframe tbody tr th {\n",
       "        vertical-align: top;\n",
       "    }\n",
       "\n",
       "    .dataframe thead th {\n",
       "        text-align: right;\n",
       "    }\n",
       "</style>\n",
       "<table border=\"1\" class=\"dataframe\">\n",
       "  <thead>\n",
       "    <tr style=\"text-align: right;\">\n",
       "      <th></th>\n",
       "      <th></th>\n",
       "      <th>user_id</th>\n",
       "    </tr>\n",
       "    <tr>\n",
       "      <th>ab_test</th>\n",
       "      <th>group</th>\n",
       "      <th></th>\n",
       "    </tr>\n",
       "  </thead>\n",
       "  <tbody>\n",
       "    <tr>\n",
       "      <th rowspan=\"2\" valign=\"top\">interface_eu_test</th>\n",
       "      <th>A</th>\n",
       "      <td>5831</td>\n",
       "    </tr>\n",
       "    <tr>\n",
       "      <th>B</th>\n",
       "      <td>5736</td>\n",
       "    </tr>\n",
       "    <tr>\n",
       "      <th rowspan=\"2\" valign=\"top\">recommender_system_test</th>\n",
       "      <th>A</th>\n",
       "      <td>3824</td>\n",
       "    </tr>\n",
       "    <tr>\n",
       "      <th>B</th>\n",
       "      <td>2877</td>\n",
       "    </tr>\n",
       "  </tbody>\n",
       "</table>\n",
       "</div>"
      ],
      "text/plain": [
       "                               user_id\n",
       "ab_test                 group         \n",
       "interface_eu_test       A         5831\n",
       "                        B         5736\n",
       "recommender_system_test A         3824\n",
       "                        B         2877"
      ]
     },
     "execution_count": 5,
     "metadata": {},
     "output_type": "execute_result"
    }
   ],
   "source": [
    "# Evaluemos la agrupación de valores por el test y el grupo del test\n",
    "final_ab_participants.groupby(['ab_test', 'group']).agg({'user_id': 'nunique'})"
   ]
  },
  {
   "cell_type": "code",
   "execution_count": 6,
   "metadata": {},
   "outputs": [
    {
     "name": "stdout",
     "output_type": "stream",
     "text": [
      "Cantidad de duplicados completos en los datos: 0\n"
     ]
    }
   ],
   "source": [
    "print('Cantidad de duplicados completos en los datos:', sum(final_ab_participants.duplicated()))\n"
   ]
  },
  {
   "cell_type": "markdown",
   "metadata": {},
   "source": [
    "1.  La tabla contiene 18,268 filas y 3 columnas.\n",
    "2.  No hay valores faltantes en las columnas.\n",
    "3.  Los tipos de datos asignados automáticamente son correctos.\n",
    "4.  La tabla incluye datos de dos pruebas diferentes - el estudio propone trabajar solo con una prueba.\n",
    "\n",
    "## Tabla final_ab_new_users."
   ]
  },
  {
   "cell_type": "code",
   "execution_count": 7,
   "metadata": {},
   "outputs": [
    {
     "name": "stdout",
     "output_type": "stream",
     "text": [
      "<class 'pandas.core.frame.DataFrame'>\n",
      "RangeIndex: 61733 entries, 0 to 61732\n",
      "Data columns (total 4 columns):\n",
      " #   Column      Non-Null Count  Dtype \n",
      "---  ------      --------------  ----- \n",
      " 0   user_id     61733 non-null  object\n",
      " 1   first_date  61733 non-null  object\n",
      " 2   region      61733 non-null  object\n",
      " 3   device      61733 non-null  object\n",
      "dtypes: object(4)\n",
      "memory usage: 1.9+ MB\n"
     ]
    }
   ],
   "source": [
    "final_ab_new_users.info()"
   ]
  },
  {
   "cell_type": "code",
   "execution_count": 8,
   "metadata": {},
   "outputs": [
    {
     "data": {
      "text/html": [
       "<div>\n",
       "<style scoped>\n",
       "    .dataframe tbody tr th:only-of-type {\n",
       "        vertical-align: middle;\n",
       "    }\n",
       "\n",
       "    .dataframe tbody tr th {\n",
       "        vertical-align: top;\n",
       "    }\n",
       "\n",
       "    .dataframe thead th {\n",
       "        text-align: right;\n",
       "    }\n",
       "</style>\n",
       "<table border=\"1\" class=\"dataframe\">\n",
       "  <thead>\n",
       "    <tr style=\"text-align: right;\">\n",
       "      <th></th>\n",
       "      <th>user_id</th>\n",
       "      <th>first_date</th>\n",
       "      <th>region</th>\n",
       "      <th>device</th>\n",
       "    </tr>\n",
       "  </thead>\n",
       "  <tbody>\n",
       "    <tr>\n",
       "      <th>0</th>\n",
       "      <td>D72A72121175D8BE</td>\n",
       "      <td>2020-12-07</td>\n",
       "      <td>EU</td>\n",
       "      <td>PC</td>\n",
       "    </tr>\n",
       "    <tr>\n",
       "      <th>1</th>\n",
       "      <td>F1C668619DFE6E65</td>\n",
       "      <td>2020-12-07</td>\n",
       "      <td>N.America</td>\n",
       "      <td>Android</td>\n",
       "    </tr>\n",
       "    <tr>\n",
       "      <th>2</th>\n",
       "      <td>2E1BF1D4C37EA01F</td>\n",
       "      <td>2020-12-07</td>\n",
       "      <td>EU</td>\n",
       "      <td>PC</td>\n",
       "    </tr>\n",
       "    <tr>\n",
       "      <th>3</th>\n",
       "      <td>50734A22C0C63768</td>\n",
       "      <td>2020-12-07</td>\n",
       "      <td>EU</td>\n",
       "      <td>iPhone</td>\n",
       "    </tr>\n",
       "    <tr>\n",
       "      <th>4</th>\n",
       "      <td>E1BDDCE0DAFA2679</td>\n",
       "      <td>2020-12-07</td>\n",
       "      <td>N.America</td>\n",
       "      <td>iPhone</td>\n",
       "    </tr>\n",
       "  </tbody>\n",
       "</table>\n",
       "</div>"
      ],
      "text/plain": [
       "            user_id  first_date     region   device\n",
       "0  D72A72121175D8BE  2020-12-07         EU       PC\n",
       "1  F1C668619DFE6E65  2020-12-07  N.America  Android\n",
       "2  2E1BF1D4C37EA01F  2020-12-07         EU       PC\n",
       "3  50734A22C0C63768  2020-12-07         EU   iPhone\n",
       "4  E1BDDCE0DAFA2679  2020-12-07  N.America   iPhone"
      ]
     },
     "execution_count": 8,
     "metadata": {},
     "output_type": "execute_result"
    }
   ],
   "source": [
    "final_ab_new_users.head()"
   ]
  },
  {
   "cell_type": "code",
   "execution_count": 9,
   "metadata": {},
   "outputs": [],
   "source": [
    "# En la columna first_date se indica una fecha, pero está definida como tipo de datos de cadena, por lo tanto, realizaremos las conversiones necesarias.\n",
    "\n",
    "final_ab_new_users['first_date'] = pd.to_datetime(final_ab_new_users['first_date'])"
   ]
  },
  {
   "cell_type": "code",
   "execution_count": 10,
   "metadata": {},
   "outputs": [
    {
     "name": "stdout",
     "output_type": "stream",
     "text": [
      "Cantidad de duplicados completos en los datos: 0\n"
     ]
    }
   ],
   "source": [
    "# Verifiquemos la presencia de duplicados.\n",
    "\n",
    "print('Cantidad de duplicados completos en los datos:', sum(final_ab_new_users.duplicated()))"
   ]
  },
  {
   "cell_type": "code",
   "execution_count": 11,
   "metadata": {},
   "outputs": [
    {
     "name": "stdout",
     "output_type": "stream",
     "text": [
      "Min дата: 2020-12-07 00:00:00\n",
      "Max дата: 2020-12-23 00:00:00\n"
     ]
    }
   ],
   "source": [
    "final_ab_new_users['first_date'].min()\n",
    "\n",
    "print('Min fecha:',  final_ab_new_users['first_date'].min())\n",
    "print('Max fecha:',  final_ab_new_users['first_date'].max())"
   ]
  },
  {
   "cell_type": "code",
   "execution_count": 12,
   "metadata": {},
   "outputs": [],
   "source": [
    "final_ab_new_users = final_ab_new_users[final_ab_new_users['first_date'] <= '2020-12-21']"
   ]
  },
  {
   "cell_type": "code",
   "execution_count": 13,
   "metadata": {},
   "outputs": [
    {
     "data": {
      "text/plain": [
       "region\n",
       "EU           42340\n",
       "N.America     8347\n",
       "CIS           2900\n",
       "APAC          2883\n",
       "Name: count, dtype: int64"
      ]
     },
     "execution_count": 13,
     "metadata": {},
     "output_type": "execute_result"
    }
   ],
   "source": [
    "final_ab_new_users['region'].value_counts()"
   ]
  },
  {
   "cell_type": "code",
   "execution_count": 14,
   "metadata": {},
   "outputs": [
    {
     "data": {
      "text/plain": [
       "device\n",
       "Android    25161\n",
       "PC         14310\n",
       "iPhone     11477\n",
       "Mac         5522\n",
       "Name: count, dtype: int64"
      ]
     },
     "execution_count": 14,
     "metadata": {},
     "output_type": "execute_result"
    }
   ],
   "source": [
    "final_ab_new_users['device'].value_counts()"
   ]
  },
  {
   "cell_type": "code",
   "execution_count": 15,
   "metadata": {},
   "outputs": [],
   "source": [
    "# Dejamos en el conjunto de datos solo a los usuarios de Europa, como lo requiere el documento de especificaciones técnicas (ТЗ).\n",
    "final_ab_new_users = final_ab_new_users[final_ab_new_users['region'] == 'EU']"
   ]
  },
  {
   "cell_type": "markdown",
   "metadata": {},
   "source": [
    "1.  En la tabla original hay 61,733 filas y 4 columnas.\n",
    "2.  No hay valores faltantes.\n",
    "3.  El tipo de datos de la columna first_date se ha convertido a fecha.\n",
    "4.  En el conjunto de datos se encontraron fechas del 7 al 23 de diciembre de 2020. Según las especificaciones técnicas, la fecha de corte para la adquisición de nuevos usuarios es el 21 de diciembre de 2020, por lo tanto, se eliminaron todas las filas con fechas posteriores a esta.\n",
    "5.  Se encontraron regiones distintas de \"Europa\" en el conjunto de datos. Como no necesitaremos estos datos para evaluar los resultados de la prueba, se eliminaron los datos de todas las regiones excepto Europa.\n",
    "\n",
    "## Tabla final_ab_events."
   ]
  },
  {
   "cell_type": "code",
   "execution_count": 16,
   "metadata": {},
   "outputs": [
    {
     "name": "stdout",
     "output_type": "stream",
     "text": [
      "<class 'pandas.core.frame.DataFrame'>\n",
      "RangeIndex: 440317 entries, 0 to 440316\n",
      "Data columns (total 4 columns):\n",
      " #   Column      Non-Null Count   Dtype  \n",
      "---  ------      --------------   -----  \n",
      " 0   user_id     440317 non-null  object \n",
      " 1   event_dt    440317 non-null  object \n",
      " 2   details     62740 non-null   float64\n",
      " 3   event_name  440317 non-null  object \n",
      "dtypes: float64(1), object(3)\n",
      "memory usage: 13.4+ MB\n"
     ]
    }
   ],
   "source": [
    "final_ab_events.info()"
   ]
  },
  {
   "cell_type": "code",
   "execution_count": 17,
   "metadata": {},
   "outputs": [
    {
     "data": {
      "text/html": [
       "<div>\n",
       "<style scoped>\n",
       "    .dataframe tbody tr th:only-of-type {\n",
       "        vertical-align: middle;\n",
       "    }\n",
       "\n",
       "    .dataframe tbody tr th {\n",
       "        vertical-align: top;\n",
       "    }\n",
       "\n",
       "    .dataframe thead th {\n",
       "        text-align: right;\n",
       "    }\n",
       "</style>\n",
       "<table border=\"1\" class=\"dataframe\">\n",
       "  <thead>\n",
       "    <tr style=\"text-align: right;\">\n",
       "      <th></th>\n",
       "      <th>user_id</th>\n",
       "      <th>event_dt</th>\n",
       "      <th>details</th>\n",
       "      <th>event_name</th>\n",
       "    </tr>\n",
       "  </thead>\n",
       "  <tbody>\n",
       "    <tr>\n",
       "      <th>0</th>\n",
       "      <td>E1BDDCE0DAFA2679</td>\n",
       "      <td>2020-12-07 20:22:03</td>\n",
       "      <td>99.99</td>\n",
       "      <td>purchase</td>\n",
       "    </tr>\n",
       "    <tr>\n",
       "      <th>1</th>\n",
       "      <td>7B6452F081F49504</td>\n",
       "      <td>2020-12-07 09:22:53</td>\n",
       "      <td>9.99</td>\n",
       "      <td>purchase</td>\n",
       "    </tr>\n",
       "    <tr>\n",
       "      <th>2</th>\n",
       "      <td>9CD9F34546DF254C</td>\n",
       "      <td>2020-12-07 12:59:29</td>\n",
       "      <td>4.99</td>\n",
       "      <td>purchase</td>\n",
       "    </tr>\n",
       "    <tr>\n",
       "      <th>3</th>\n",
       "      <td>96F27A054B191457</td>\n",
       "      <td>2020-12-07 04:02:40</td>\n",
       "      <td>4.99</td>\n",
       "      <td>purchase</td>\n",
       "    </tr>\n",
       "    <tr>\n",
       "      <th>4</th>\n",
       "      <td>1FD7660FDF94CA1F</td>\n",
       "      <td>2020-12-07 10:15:09</td>\n",
       "      <td>4.99</td>\n",
       "      <td>purchase</td>\n",
       "    </tr>\n",
       "  </tbody>\n",
       "</table>\n",
       "</div>"
      ],
      "text/plain": [
       "            user_id             event_dt  details event_name\n",
       "0  E1BDDCE0DAFA2679  2020-12-07 20:22:03    99.99   purchase\n",
       "1  7B6452F081F49504  2020-12-07 09:22:53     9.99   purchase\n",
       "2  9CD9F34546DF254C  2020-12-07 12:59:29     4.99   purchase\n",
       "3  96F27A054B191457  2020-12-07 04:02:40     4.99   purchase\n",
       "4  1FD7660FDF94CA1F  2020-12-07 10:15:09     4.99   purchase"
      ]
     },
     "execution_count": 17,
     "metadata": {},
     "output_type": "execute_result"
    }
   ],
   "source": [
    "final_ab_events.head()"
   ]
  },
  {
   "cell_type": "code",
   "execution_count": 18,
   "metadata": {},
   "outputs": [
    {
     "name": "stdout",
     "output_type": "stream",
     "text": [
      "Cantidad de duplicados completos en los datos: 0\n"
     ]
    }
   ],
   "source": [
    "# Verifiquemos la presencia de duplicados.\n",
    "print('Cantidad de duplicados completos en los datos:', sum(final_ab_events.duplicated()))"
   ]
  },
  {
   "cell_type": "code",
   "execution_count": 19,
   "metadata": {},
   "outputs": [],
   "source": [
    "# Vamos a convertir el texto en fecha.\n",
    "\n",
    "final_ab_events['event_dt'] = pd.to_datetime(final_ab_events['event_dt'])"
   ]
  },
  {
   "cell_type": "code",
   "execution_count": 20,
   "metadata": {},
   "outputs": [
    {
     "name": "stdout",
     "output_type": "stream",
     "text": [
      "Min Fecha de evento: 2020-12-07 00:00:33\n",
      "Max Fecha de evento: 2020-12-30 23:36:33\n"
     ]
    }
   ],
   "source": [
    "print('Min Fecha de evento:',  final_ab_events['event_dt'].min())\n",
    "print('Max Fecha de evento:',  final_ab_events['event_dt'].max())"
   ]
  },
  {
   "cell_type": "code",
   "execution_count": 21,
   "metadata": {},
   "outputs": [
    {
     "data": {
      "text/html": [
       "<div>\n",
       "<style scoped>\n",
       "    .dataframe tbody tr th:only-of-type {\n",
       "        vertical-align: middle;\n",
       "    }\n",
       "\n",
       "    .dataframe tbody tr th {\n",
       "        vertical-align: top;\n",
       "    }\n",
       "\n",
       "    .dataframe thead th {\n",
       "        text-align: right;\n",
       "    }\n",
       "</style>\n",
       "<table border=\"1\" class=\"dataframe\">\n",
       "  <thead>\n",
       "    <tr style=\"text-align: right;\">\n",
       "      <th></th>\n",
       "      <th>event_name</th>\n",
       "      <th>details</th>\n",
       "    </tr>\n",
       "  </thead>\n",
       "  <tbody>\n",
       "    <tr>\n",
       "      <th>0</th>\n",
       "      <td>login</td>\n",
       "      <td>NaN</td>\n",
       "    </tr>\n",
       "    <tr>\n",
       "      <th>1</th>\n",
       "      <td>product_cart</td>\n",
       "      <td>NaN</td>\n",
       "    </tr>\n",
       "    <tr>\n",
       "      <th>2</th>\n",
       "      <td>product_page</td>\n",
       "      <td>NaN</td>\n",
       "    </tr>\n",
       "    <tr>\n",
       "      <th>3</th>\n",
       "      <td>purchase</td>\n",
       "      <td>4.99</td>\n",
       "    </tr>\n",
       "  </tbody>\n",
       "</table>\n",
       "</div>"
      ],
      "text/plain": [
       "     event_name  details\n",
       "0         login      NaN\n",
       "1  product_cart      NaN\n",
       "2  product_page      NaN\n",
       "3      purchase     4.99"
      ]
     },
     "execution_count": 21,
     "metadata": {},
     "output_type": "execute_result"
    }
   ],
   "source": [
    "# Presumiblemente, los datos en la columna details están presentes solo en las filas de eventos de compra, lo cual es lógico.\n",
    "# Vamos a verificar esto mostrando la suma mínima.\n",
    "final_ab_events.groupby('event_name', as_index=False).agg({'details': 'min'})"
   ]
  },
  {
   "cell_type": "markdown",
   "metadata": {},
   "source": [
    "1.  La tabla contiene 440,317 registros y 4 columnas.\n",
    "2.  No hay duplicados.\n",
    "3.  No todos los valores están presentes en la columna details, ya que indica el monto de la compra, por lo tanto, los datos solo están disponibles en las transacciones que registraron una compra.\n",
    "4.  Se requirió la conversión de la columna event_dt de tipo de datos string a fecha.\n",
    "5.  Una observación interesante: según las especificaciones técnicas, el período de prueba concluyó el 4 de enero de 2021, aunque los datos de eventos solo están presentes hasta el 30 de diciembre inclusive. **Existe la posibilidad de que se haya perdido parte de los datos durante la descarga.**\n",
    "\n",
    "## Tabla ab_project_marketing_events."
   ]
  },
  {
   "cell_type": "code",
   "execution_count": 22,
   "metadata": {},
   "outputs": [
    {
     "name": "stdout",
     "output_type": "stream",
     "text": [
      "<class 'pandas.core.frame.DataFrame'>\n",
      "RangeIndex: 14 entries, 0 to 13\n",
      "Data columns (total 4 columns):\n",
      " #   Column     Non-Null Count  Dtype \n",
      "---  ------     --------------  ----- \n",
      " 0   name       14 non-null     object\n",
      " 1   regions    14 non-null     object\n",
      " 2   start_dt   14 non-null     object\n",
      " 3   finish_dt  14 non-null     object\n",
      "dtypes: object(4)\n",
      "memory usage: 580.0+ bytes\n"
     ]
    }
   ],
   "source": [
    "ab_project_marketing_events.info()"
   ]
  },
  {
   "cell_type": "code",
   "execution_count": 23,
   "metadata": {},
   "outputs": [
    {
     "data": {
      "text/html": [
       "<div>\n",
       "<style scoped>\n",
       "    .dataframe tbody tr th:only-of-type {\n",
       "        vertical-align: middle;\n",
       "    }\n",
       "\n",
       "    .dataframe tbody tr th {\n",
       "        vertical-align: top;\n",
       "    }\n",
       "\n",
       "    .dataframe thead th {\n",
       "        text-align: right;\n",
       "    }\n",
       "</style>\n",
       "<table border=\"1\" class=\"dataframe\">\n",
       "  <thead>\n",
       "    <tr style=\"text-align: right;\">\n",
       "      <th></th>\n",
       "      <th>name</th>\n",
       "      <th>regions</th>\n",
       "      <th>start_dt</th>\n",
       "      <th>finish_dt</th>\n",
       "    </tr>\n",
       "  </thead>\n",
       "  <tbody>\n",
       "    <tr>\n",
       "      <th>0</th>\n",
       "      <td>Christmas&amp;New Year Promo</td>\n",
       "      <td>EU, N.America</td>\n",
       "      <td>2020-12-25</td>\n",
       "      <td>2021-01-03</td>\n",
       "    </tr>\n",
       "    <tr>\n",
       "      <th>1</th>\n",
       "      <td>St. Valentine's Day Giveaway</td>\n",
       "      <td>EU, CIS, APAC, N.America</td>\n",
       "      <td>2020-02-14</td>\n",
       "      <td>2020-02-16</td>\n",
       "    </tr>\n",
       "    <tr>\n",
       "      <th>2</th>\n",
       "      <td>St. Patric's Day Promo</td>\n",
       "      <td>EU, N.America</td>\n",
       "      <td>2020-03-17</td>\n",
       "      <td>2020-03-19</td>\n",
       "    </tr>\n",
       "    <tr>\n",
       "      <th>3</th>\n",
       "      <td>Easter Promo</td>\n",
       "      <td>EU, CIS, APAC, N.America</td>\n",
       "      <td>2020-04-12</td>\n",
       "      <td>2020-04-19</td>\n",
       "    </tr>\n",
       "    <tr>\n",
       "      <th>4</th>\n",
       "      <td>4th of July Promo</td>\n",
       "      <td>N.America</td>\n",
       "      <td>2020-07-04</td>\n",
       "      <td>2020-07-11</td>\n",
       "    </tr>\n",
       "  </tbody>\n",
       "</table>\n",
       "</div>"
      ],
      "text/plain": [
       "                           name                   regions    start_dt  \\\n",
       "0      Christmas&New Year Promo             EU, N.America  2020-12-25   \n",
       "1  St. Valentine's Day Giveaway  EU, CIS, APAC, N.America  2020-02-14   \n",
       "2        St. Patric's Day Promo             EU, N.America  2020-03-17   \n",
       "3                  Easter Promo  EU, CIS, APAC, N.America  2020-04-12   \n",
       "4             4th of July Promo                 N.America  2020-07-04   \n",
       "\n",
       "    finish_dt  \n",
       "0  2021-01-03  \n",
       "1  2020-02-16  \n",
       "2  2020-03-19  \n",
       "3  2020-04-19  \n",
       "4  2020-07-11  "
      ]
     },
     "execution_count": 23,
     "metadata": {},
     "output_type": "execute_result"
    }
   ],
   "source": [
    "ab_project_marketing_events.head()"
   ]
  },
  {
   "cell_type": "code",
   "execution_count": 24,
   "metadata": {},
   "outputs": [],
   "source": [
    "ab_project_marketing_events['start_dt'] = pd.to_datetime(ab_project_marketing_events['start_dt'])\n",
    "ab_project_marketing_events['finish_dt'] = pd.to_datetime(ab_project_marketing_events['finish_dt'])"
   ]
  },
  {
   "cell_type": "markdown",
   "metadata": {},
   "source": [
    "1.  Se ha realizado la conversión de datos de tipo string a formato de fecha.\n",
    "\n",
    "\n",
    "## Análisis de datos\n",
    "\n",
    "### Análisis de la muestra de usuarios\n",
    "\n",
    "Dado que la tarea principal es el análisis de eventos, compilaremos un dataframe universal con el que trabajaremos.\n",
    "\n",
    "Como se especifica en el documento de especificaciones técnicas, estamos interesados en:\n",
    "\n",
    "-   Nuevos usuarios registrados hasta el 21 de diciembre de 2020\n",
    "-   Del área de la UE\n",
    "\n",
    "Seleccionaremos a los usuarios de la región \"Europa\" de la tabla final_ab_new_users y adjuntaremos datos de los participantes del test de manera que solo se incluya la audiencia objetivo requerida."
   ]
  },
  {
   "cell_type": "code",
   "execution_count": 25,
   "metadata": {},
   "outputs": [],
   "source": [
    "# A la tabla con \"nuevos\" usuarios en la región \"Europa\", adjuntaremos los participantes de los tests y descartaremos los valores NaN.\n",
    "users = final_ab_new_users.merge(\n",
    "    final_ab_participants, on='user_id', how='left'\n",
    ").dropna()"
   ]
  },
  {
   "cell_type": "code",
   "execution_count": 26,
   "metadata": {},
   "outputs": [
    {
     "data": {
      "text/html": [
       "<div>\n",
       "<style scoped>\n",
       "    .dataframe tbody tr th:only-of-type {\n",
       "        vertical-align: middle;\n",
       "    }\n",
       "\n",
       "    .dataframe tbody tr th {\n",
       "        vertical-align: top;\n",
       "    }\n",
       "\n",
       "    .dataframe thead th {\n",
       "        text-align: right;\n",
       "    }\n",
       "</style>\n",
       "<table border=\"1\" class=\"dataframe\">\n",
       "  <thead>\n",
       "    <tr style=\"text-align: right;\">\n",
       "      <th></th>\n",
       "      <th>user_id</th>\n",
       "      <th>first_date</th>\n",
       "      <th>region</th>\n",
       "      <th>device</th>\n",
       "      <th>group</th>\n",
       "      <th>ab_test</th>\n",
       "    </tr>\n",
       "  </thead>\n",
       "  <tbody>\n",
       "    <tr>\n",
       "      <th>0</th>\n",
       "      <td>D72A72121175D8BE</td>\n",
       "      <td>2020-12-07</td>\n",
       "      <td>EU</td>\n",
       "      <td>PC</td>\n",
       "      <td>A</td>\n",
       "      <td>recommender_system_test</td>\n",
       "    </tr>\n",
       "    <tr>\n",
       "      <th>1</th>\n",
       "      <td>2E1BF1D4C37EA01F</td>\n",
       "      <td>2020-12-07</td>\n",
       "      <td>EU</td>\n",
       "      <td>PC</td>\n",
       "      <td>A</td>\n",
       "      <td>interface_eu_test</td>\n",
       "    </tr>\n",
       "    <tr>\n",
       "      <th>2</th>\n",
       "      <td>50734A22C0C63768</td>\n",
       "      <td>2020-12-07</td>\n",
       "      <td>EU</td>\n",
       "      <td>iPhone</td>\n",
       "      <td>B</td>\n",
       "      <td>interface_eu_test</td>\n",
       "    </tr>\n",
       "    <tr>\n",
       "      <th>7</th>\n",
       "      <td>E6DE857AFBDC6102</td>\n",
       "      <td>2020-12-07</td>\n",
       "      <td>EU</td>\n",
       "      <td>PC</td>\n",
       "      <td>B</td>\n",
       "      <td>recommender_system_test</td>\n",
       "    </tr>\n",
       "    <tr>\n",
       "      <th>8</th>\n",
       "      <td>E6DE857AFBDC6102</td>\n",
       "      <td>2020-12-07</td>\n",
       "      <td>EU</td>\n",
       "      <td>PC</td>\n",
       "      <td>B</td>\n",
       "      <td>interface_eu_test</td>\n",
       "    </tr>\n",
       "  </tbody>\n",
       "</table>\n",
       "</div>"
      ],
      "text/plain": [
       "            user_id first_date region  device group                  ab_test\n",
       "0  D72A72121175D8BE 2020-12-07     EU      PC     A  recommender_system_test\n",
       "1  2E1BF1D4C37EA01F 2020-12-07     EU      PC     A        interface_eu_test\n",
       "2  50734A22C0C63768 2020-12-07     EU  iPhone     B        interface_eu_test\n",
       "7  E6DE857AFBDC6102 2020-12-07     EU      PC     B  recommender_system_test\n",
       "8  E6DE857AFBDC6102 2020-12-07     EU      PC     B        interface_eu_test"
      ]
     },
     "execution_count": 26,
     "metadata": {},
     "output_type": "execute_result"
    }
   ],
   "source": [
    "# De esta manera, obtenemos solo los datos necesarios.\n",
    "users.head()"
   ]
  },
  {
   "cell_type": "code",
   "execution_count": 27,
   "metadata": {},
   "outputs": [
    {
     "data": {
      "text/plain": [
       "ab_test\n",
       "interface_eu_test          10565\n",
       "recommender_system_test     6351\n",
       "Name: count, dtype: int64"
      ]
     },
     "execution_count": 27,
     "metadata": {},
     "output_type": "execute_result"
    }
   ],
   "source": [
    "# Vamos a verificar cómo se distribuyeron los usuarios por el test\n",
    "users['ab_test'].value_counts()"
   ]
  },
  {
   "cell_type": "markdown",
   "metadata": {},
   "source": [
    "Revisaremos la lista de usuarios para detectar si hay intersecciones con participantes de otro test.\n",
    "\n"
   ]
  },
  {
   "cell_type": "code",
   "execution_count": 28,
   "metadata": {},
   "outputs": [
    {
     "data": {
      "text/html": [
       "<div>\n",
       "<style scoped>\n",
       "    .dataframe tbody tr th:only-of-type {\n",
       "        vertical-align: middle;\n",
       "    }\n",
       "\n",
       "    .dataframe tbody tr th {\n",
       "        vertical-align: top;\n",
       "    }\n",
       "\n",
       "    .dataframe thead th {\n",
       "        text-align: right;\n",
       "    }\n",
       "</style>\n",
       "<table border=\"1\" class=\"dataframe\">\n",
       "  <thead>\n",
       "    <tr style=\"text-align: right;\">\n",
       "      <th></th>\n",
       "      <th>user_id</th>\n",
       "      <th>number_of_tests</th>\n",
       "    </tr>\n",
       "  </thead>\n",
       "  <tbody>\n",
       "    <tr>\n",
       "      <th>0</th>\n",
       "      <td>0002CE61FF2C4011</td>\n",
       "      <td>1</td>\n",
       "    </tr>\n",
       "    <tr>\n",
       "      <th>1</th>\n",
       "      <td>000ABE35EE11412F</td>\n",
       "      <td>1</td>\n",
       "    </tr>\n",
       "    <tr>\n",
       "      <th>2</th>\n",
       "      <td>001064FEAAB631A1</td>\n",
       "      <td>2</td>\n",
       "    </tr>\n",
       "    <tr>\n",
       "      <th>3</th>\n",
       "      <td>0010A1C096941592</td>\n",
       "      <td>1</td>\n",
       "    </tr>\n",
       "    <tr>\n",
       "      <th>4</th>\n",
       "      <td>001C05E87D336C59</td>\n",
       "      <td>1</td>\n",
       "    </tr>\n",
       "  </tbody>\n",
       "</table>\n",
       "</div>"
      ],
      "text/plain": [
       "            user_id  number_of_tests\n",
       "0  0002CE61FF2C4011                1\n",
       "1  000ABE35EE11412F                1\n",
       "2  001064FEAAB631A1                2\n",
       "3  0010A1C096941592                1\n",
       "4  001C05E87D336C59                1"
      ]
     },
     "execution_count": 28,
     "metadata": {},
     "output_type": "execute_result"
    }
   ],
   "source": [
    "# Crearemos un dataframe en el cual guardaremos la cantidad de diferentes tests en los que participó cada usuario\n",
    "\n",
    "two_tests_users = users.groupby('user_id', as_index=False).agg({'ab_test': 'nunique'})\n",
    "two_tests_users = two_tests_users.rename(columns={'ab_test': 'number_of_tests'})\n",
    "two_tests_users.head()"
   ]
  },
  {
   "cell_type": "code",
   "execution_count": 29,
   "metadata": {},
   "outputs": [],
   "source": [
    "# A continuación, seleccionamos a los usuarios que participaron en el AB-test objetivo.\n",
    "recommender_system_test_users = users[users['ab_test'] == 'recommender_system_test']\n"
   ]
  },
  {
   "cell_type": "code",
   "execution_count": 30,
   "metadata": {},
   "outputs": [
    {
     "data": {
      "text/html": [
       "<div>\n",
       "<style scoped>\n",
       "    .dataframe tbody tr th:only-of-type {\n",
       "        vertical-align: middle;\n",
       "    }\n",
       "\n",
       "    .dataframe tbody tr th {\n",
       "        vertical-align: top;\n",
       "    }\n",
       "\n",
       "    .dataframe thead th {\n",
       "        text-align: right;\n",
       "    }\n",
       "</style>\n",
       "<table border=\"1\" class=\"dataframe\">\n",
       "  <thead>\n",
       "    <tr style=\"text-align: right;\">\n",
       "      <th></th>\n",
       "      <th>user_id</th>\n",
       "      <th>first_date</th>\n",
       "      <th>region</th>\n",
       "      <th>device</th>\n",
       "      <th>group</th>\n",
       "      <th>ab_test</th>\n",
       "      <th>number_of_tests</th>\n",
       "    </tr>\n",
       "  </thead>\n",
       "  <tbody>\n",
       "    <tr>\n",
       "      <th>0</th>\n",
       "      <td>D72A72121175D8BE</td>\n",
       "      <td>2020-12-07</td>\n",
       "      <td>EU</td>\n",
       "      <td>PC</td>\n",
       "      <td>A</td>\n",
       "      <td>recommender_system_test</td>\n",
       "      <td>1</td>\n",
       "    </tr>\n",
       "    <tr>\n",
       "      <th>1</th>\n",
       "      <td>E6DE857AFBDC6102</td>\n",
       "      <td>2020-12-07</td>\n",
       "      <td>EU</td>\n",
       "      <td>PC</td>\n",
       "      <td>B</td>\n",
       "      <td>recommender_system_test</td>\n",
       "      <td>2</td>\n",
       "    </tr>\n",
       "    <tr>\n",
       "      <th>2</th>\n",
       "      <td>DD4352CDCF8C3D57</td>\n",
       "      <td>2020-12-07</td>\n",
       "      <td>EU</td>\n",
       "      <td>Android</td>\n",
       "      <td>B</td>\n",
       "      <td>recommender_system_test</td>\n",
       "      <td>2</td>\n",
       "    </tr>\n",
       "    <tr>\n",
       "      <th>3</th>\n",
       "      <td>831887FE7F2D6CBA</td>\n",
       "      <td>2020-12-07</td>\n",
       "      <td>EU</td>\n",
       "      <td>Android</td>\n",
       "      <td>A</td>\n",
       "      <td>recommender_system_test</td>\n",
       "      <td>1</td>\n",
       "    </tr>\n",
       "    <tr>\n",
       "      <th>4</th>\n",
       "      <td>4CB179C7F847320B</td>\n",
       "      <td>2020-12-07</td>\n",
       "      <td>EU</td>\n",
       "      <td>iPhone</td>\n",
       "      <td>B</td>\n",
       "      <td>recommender_system_test</td>\n",
       "      <td>1</td>\n",
       "    </tr>\n",
       "  </tbody>\n",
       "</table>\n",
       "</div>"
      ],
      "text/plain": [
       "            user_id first_date region   device group                  ab_test  \\\n",
       "0  D72A72121175D8BE 2020-12-07     EU       PC     A  recommender_system_test   \n",
       "1  E6DE857AFBDC6102 2020-12-07     EU       PC     B  recommender_system_test   \n",
       "2  DD4352CDCF8C3D57 2020-12-07     EU  Android     B  recommender_system_test   \n",
       "3  831887FE7F2D6CBA 2020-12-07     EU  Android     A  recommender_system_test   \n",
       "4  4CB179C7F847320B 2020-12-07     EU   iPhone     B  recommender_system_test   \n",
       "\n",
       "   number_of_tests  \n",
       "0                1  \n",
       "1                2  \n",
       "2                2  \n",
       "3                1  \n",
       "4                1  "
      ]
     },
     "execution_count": 30,
     "metadata": {},
     "output_type": "execute_result"
    }
   ],
   "source": [
    "# Adjuntaremos la cantidad de tests en los que cada usuario participó al dataframe con los participantes del test objetivo.\n",
    "recommender_system_test_users = recommender_system_test_users.merge(two_tests_users, on='user_id', how='left')\n",
    "recommender_system_test_users.head()"
   ]
  },
  {
   "cell_type": "code",
   "execution_count": 31,
   "metadata": {},
   "outputs": [
    {
     "name": "stdout",
     "output_type": "stream",
     "text": [
      "Participantes de dos tests en la muestra: 1602\n",
      "Tamaño de la muestra: 6351\n"
     ]
    }
   ],
   "source": [
    "\n",
    "print('Participantes de dos tests en la muestra:', len(recommender_system_test_users[recommender_system_test_users['number_of_tests'] == 2]))\n",
    "print('Tamaño de la muestra:', len(recommender_system_test_users))"
   ]
  },
  {
   "cell_type": "markdown",
   "metadata": {},
   "source": [
    "\n",
    "El 25.2% de los participantes en el test de **recommender_system_test** también participaron en el segundo test, **interface_eu_test**. Según el nombre del segundo test y la uniformidad de los campos en la muestra de eventos, se espera que el efecto del texto de la interfaz también esté dirigido a aumentar la conversión. Por lo tanto, se ha identificado un segundo factor comprometedor.\n",
    "\n",
    "Dado que sabemos que el grupo A actúa como el grupo de control en los tests, lo cual significa que utiliza funcionalidades que no han sido modificadas, podemos suponer que el grupo de control del **test interface_eu_test** podría ser utilizado en nuestro test de manera \"segura\"."
   ]
  },
  {
   "cell_type": "code",
   "execution_count": 32,
   "metadata": {},
   "outputs": [
    {
     "data": {
      "text/html": [
       "<div>\n",
       "<style scoped>\n",
       "    .dataframe tbody tr th:only-of-type {\n",
       "        vertical-align: middle;\n",
       "    }\n",
       "\n",
       "    .dataframe tbody tr th {\n",
       "        vertical-align: top;\n",
       "    }\n",
       "\n",
       "    .dataframe thead th {\n",
       "        text-align: right;\n",
       "    }\n",
       "</style>\n",
       "<table border=\"1\" class=\"dataframe\">\n",
       "  <thead>\n",
       "    <tr style=\"text-align: right;\">\n",
       "      <th></th>\n",
       "      <th>user_id</th>\n",
       "      <th>number_of_tests</th>\n",
       "    </tr>\n",
       "  </thead>\n",
       "  <tbody>\n",
       "    <tr>\n",
       "      <th>0</th>\n",
       "      <td>0002CE61FF2C4011</td>\n",
       "      <td>1</td>\n",
       "    </tr>\n",
       "    <tr>\n",
       "      <th>1</th>\n",
       "      <td>000ABE35EE11412F</td>\n",
       "      <td>1</td>\n",
       "    </tr>\n",
       "    <tr>\n",
       "      <th>2</th>\n",
       "      <td>001064FEAAB631A1</td>\n",
       "      <td>2</td>\n",
       "    </tr>\n",
       "    <tr>\n",
       "      <th>3</th>\n",
       "      <td>0010A1C096941592</td>\n",
       "      <td>1</td>\n",
       "    </tr>\n",
       "    <tr>\n",
       "      <th>4</th>\n",
       "      <td>001C05E87D336C59</td>\n",
       "      <td>1</td>\n",
       "    </tr>\n",
       "  </tbody>\n",
       "</table>\n",
       "</div>"
      ],
      "text/plain": [
       "            user_id  number_of_tests\n",
       "0  0002CE61FF2C4011                1\n",
       "1  000ABE35EE11412F                1\n",
       "2  001064FEAAB631A1                2\n",
       "3  0010A1C096941592                1\n",
       "4  001C05E87D336C59                1"
      ]
     },
     "execution_count": 32,
     "metadata": {},
     "output_type": "execute_result"
    }
   ],
   "source": [
    "two_tests_users.head()"
   ]
  },
  {
   "cell_type": "code",
   "execution_count": 33,
   "metadata": {},
   "outputs": [],
   "source": [
    "# Formamos dos conjuntos de datos en los que guardaremos los diferentes grupos del test competidor.\n",
    "interface_eu_test_a = users[(users['ab_test'] == 'interface_eu_test') & (users['group'] == 'A')]\n",
    "interface_eu_test_b = users[(users['ab_test'] == 'interface_eu_test') & (users['group'] == 'B')]"
   ]
  },
  {
   "cell_type": "code",
   "execution_count": 34,
   "metadata": {},
   "outputs": [
    {
     "name": "stdout",
     "output_type": "stream",
     "text": [
      "La proporción de participantes del test en relación con el total de nuevos usuarios de la región \"Europa\": 15.00%\n"
     ]
    }
   ],
   "source": [
    "# Verificación de la proporción de participantes en el test:\n",
    "print(\n",
    "    'La proporción de participantes del test en relación con el total de nuevos usuarios de la región \"Europa\": {:.2f}%'.format(\n",
    "        len(recommender_system_test_users)/len(final_ab_new_users[final_ab_new_users['region'] == 'EU'])*100)\n",
    ")"
   ]
  },
  {
   "cell_type": "markdown",
   "metadata": {},
   "source": [
    "1.  Se ha realizado la verificación - efectivamente, en el test participan el 15% de los nuevos usuarios de la región EU, como lo requerían las especificaciones técnicas.\n",
    "2.  Se ha formado un dataset con una muestra de 6351 usuarios que participaron en el test objetivo.\n",
    "3.  También se han identificado usuarios que participaron simultáneamente en dos tests.\n",
    "\n",
    "## Análisis de los resultados del test A/B."
   ]
  },
  {
   "cell_type": "code",
   "execution_count": 35,
   "metadata": {},
   "outputs": [
    {
     "name": "stdout",
     "output_type": "stream",
     "text": [
      "Cantidad de eventos realizados por los usuarios que entran en la muestra de nuestro test: 23420\n"
     ]
    }
   ],
   "source": [
    "# Formamos una tabla en la que solo quedarán los usuarios que forman parte del grupo de participantes del test.\n",
    "ab_events = final_ab_events[final_ab_events['user_id'].isin(recommender_system_test_users['user_id'])]\n",
    "print('Cantidad de eventos realizados por los usuarios que entran en la muestra de nuestro test:', len(ab_events))"
   ]
  },
  {
   "cell_type": "code",
   "execution_count": 36,
   "metadata": {},
   "outputs": [],
   "source": [
    "# Luego, vinculamos los eventos con los usuarios y obtenemos un único conjunto de datos donde podemos observar datos detallados por usuario.\n",
    "ab_events = ab_events.merge(recommender_system_test_users, on='user_id', how='inner')"
   ]
  },
  {
   "cell_type": "markdown",
   "metadata": {},
   "source": [
    "Realizaremos una verificación adicional de la cantidad de usuarios - para comprobar si para todos los usuarios de la muestra existen eventos en la tabla de operaciones."
   ]
  },
  {
   "cell_type": "code",
   "execution_count": 37,
   "metadata": {},
   "outputs": [
    {
     "name": "stdout",
     "output_type": "stream",
     "text": [
      "Cantidad de identificadores únicos de usuarios en la tabla de eventos: 3481\n"
     ]
    }
   ],
   "source": [
    "print('Cantidad de identificadores únicos de usuarios en la tabla de eventos:', len(ab_events['user_id'].unique()))"
   ]
  },
  {
   "cell_type": "markdown",
   "metadata": {},
   "source": [
    "Solo el 54.8% de los usuarios generaron eventos.\n",
    "\n",
    "## Verificación de la hipótesis de igualdad de proporciones para la muestra completa"
   ]
  },
  {
   "cell_type": "code",
   "execution_count": 38,
   "metadata": {},
   "outputs": [
    {
     "data": {
      "text/html": [
       "<div>\n",
       "<style scoped>\n",
       "    .dataframe tbody tr th:only-of-type {\n",
       "        vertical-align: middle;\n",
       "    }\n",
       "\n",
       "    .dataframe tbody tr th {\n",
       "        vertical-align: top;\n",
       "    }\n",
       "\n",
       "    .dataframe thead th {\n",
       "        text-align: right;\n",
       "    }\n",
       "</style>\n",
       "<table border=\"1\" class=\"dataframe\">\n",
       "  <thead>\n",
       "    <tr style=\"text-align: right;\">\n",
       "      <th>group</th>\n",
       "      <th>A</th>\n",
       "      <th>B</th>\n",
       "    </tr>\n",
       "    <tr>\n",
       "      <th>event_name</th>\n",
       "      <th></th>\n",
       "      <th></th>\n",
       "    </tr>\n",
       "  </thead>\n",
       "  <tbody>\n",
       "    <tr>\n",
       "      <th>login</th>\n",
       "      <td>2604</td>\n",
       "      <td>877</td>\n",
       "    </tr>\n",
       "    <tr>\n",
       "      <th>product_page</th>\n",
       "      <td>1685</td>\n",
       "      <td>493</td>\n",
       "    </tr>\n",
       "    <tr>\n",
       "      <th>product_cart</th>\n",
       "      <td>782</td>\n",
       "      <td>244</td>\n",
       "    </tr>\n",
       "    <tr>\n",
       "      <th>purchase</th>\n",
       "      <td>833</td>\n",
       "      <td>249</td>\n",
       "    </tr>\n",
       "  </tbody>\n",
       "</table>\n",
       "</div>"
      ],
      "text/plain": [
       "group            A    B\n",
       "event_name             \n",
       "login         2604  877\n",
       "product_page  1685  493\n",
       "product_cart   782  244\n",
       "purchase       833  249"
      ]
     },
     "execution_count": 38,
     "metadata": {},
     "output_type": "execute_result"
    }
   ],
   "source": [
    "# Construiremos una tabla pivot y evaluaremos las cifras de conversión de evento a evento\n",
    "events_users = ab_events.pivot_table(\n",
    "    index='event_name',\n",
    "    columns='group',\n",
    "    values='user_id',\n",
    "    aggfunc='nunique'\n",
    ").reindex([\"login\", \"product_page\", \"product_cart\", \"purchase\"]) # Con un reindexado, organizaremos los eventos en el orden necesario.\n",
    "\n",
    "events_users"
   ]
  },
  {
   "cell_type": "code",
   "execution_count": 39,
   "metadata": {},
   "outputs": [
    {
     "data": {
      "text/html": [
       "<div>\n",
       "<style scoped>\n",
       "    .dataframe tbody tr th:only-of-type {\n",
       "        vertical-align: middle;\n",
       "    }\n",
       "\n",
       "    .dataframe tbody tr th {\n",
       "        vertical-align: top;\n",
       "    }\n",
       "\n",
       "    .dataframe thead th {\n",
       "        text-align: right;\n",
       "    }\n",
       "</style>\n",
       "<table border=\"1\" class=\"dataframe\">\n",
       "  <thead>\n",
       "    <tr style=\"text-align: right;\">\n",
       "      <th></th>\n",
       "      <th>user_id</th>\n",
       "    </tr>\n",
       "    <tr>\n",
       "      <th>group</th>\n",
       "      <th></th>\n",
       "    </tr>\n",
       "  </thead>\n",
       "  <tbody>\n",
       "    <tr>\n",
       "      <th>A</th>\n",
       "      <td>3634</td>\n",
       "    </tr>\n",
       "    <tr>\n",
       "      <th>B</th>\n",
       "      <td>2717</td>\n",
       "    </tr>\n",
       "    <tr>\n",
       "      <th>a_group_total</th>\n",
       "      <td>6351</td>\n",
       "    </tr>\n",
       "  </tbody>\n",
       "</table>\n",
       "</div>"
      ],
      "text/plain": [
       "               user_id\n",
       "group                 \n",
       "A                 3634\n",
       "B                 2717\n",
       "a_group_total     6351"
      ]
     },
     "execution_count": 39,
     "metadata": {},
     "output_type": "execute_result"
    }
   ],
   "source": [
    "# Para simplificar la obtención de la proporción de cada evento con respecto al número de usuarios en el primer paso:\n",
    "users = recommender_system_test_users.groupby('group')['user_id'].nunique().to_frame().reset_index()\n",
    "users.loc[3] = ['a_group_total', len(recommender_system_test_users['user_id'].unique())]\n",
    "users = users.set_index(users.columns[0])\n",
    "users"
   ]
  },
  {
   "cell_type": "code",
   "execution_count": 40,
   "metadata": {},
   "outputs": [],
   "source": [
    "# La función recibirá valores para los grupos, y calculará las proporciones de los eventos dentro de estos.\n",
    "def group_z_test(group1, group2):\n",
    "    for event in events_users.index:  # para cada evento en el índice del dataframe de eventos y cantidad de usuarios comenzamos un ciclo\n",
    "        successes = events_users.loc[event]  # en esta variable guardamos la fila con la cantidad de \"éxitos\" para el evento actual\n",
    "        trials = users.loc[[group1, group2]]['user_id']  # del dataframe con la \"cantidad inicial\" obtenemos datos para los grupos ingresados\n",
    "        alpha = 0.05  # nivel crítico de significancia estadística definido \"estrictamente\" en el código a nivel \"estándar\"\n",
    "        p1 = successes[group1]/trials[group1]  # calculamos la proporción de éxitos para el primer grupo\n",
    "        p2 = successes[group2]/trials[group2]  # calculamos la proporción de éxitos para el segundo grupo\n",
    "        p_combined = (successes[group1] + successes[group2]) / (trials[group1] + trials[group2])  # proporción combinada\n",
    "        difference = p1 - p2  # calculamos la diferencia de proporciones en los datasets\n",
    "        # calculamos la z-estadística\n",
    "        z_value = difference / mth.sqrt(p_combined * (1 - p_combined) * (1/trials[group1] + 1/trials[group2]))\n",
    "        # establecemos una distribución normal\n",
    "        distr = st.norm(0, 1)\n",
    "        # tomamos la z-estadística en valor absoluto y calculamos la probabilidad de obtener una discrepancia\n",
    "        # luego multiplicamos por dos, ya que consideramos que la distribución es normal\n",
    "        p_value = (1 - distr.cdf(abs(z_value))) * 2\n",
    "        print('p-valor: ', p_value)\n",
    "        if p_value < alpha:\n",
    "            print('Rechazamos la hipótesis nula: hay una diferencia significativa entre las proporciones en el contexto del evento', event)\n",
    "        else:\n",
    "            print('No se pudo rechazar la hipótesis nula, no hay razones para considerar las proporciones diferentes en el contexto del evento', event)\n",
    "        print()"
   ]
  },
  {
   "cell_type": "code",
   "execution_count": 41,
   "metadata": {},
   "outputs": [
    {
     "name": "stdout",
     "output_type": "stream",
     "text": [
      "p-valor:  0.0\n",
      "Rechazamos la hipótesis nula: hay una diferencia significativa entre las proporciones en el contexto del evento login\n",
      "\n",
      "p-valor:  0.0\n",
      "Rechazamos la hipótesis nula: hay una diferencia significativa entre las proporciones en el contexto del evento product_page\n",
      "\n",
      "p-valor:  0.0\n",
      "Rechazamos la hipótesis nula: hay una diferencia significativa entre las proporciones en el contexto del evento product_cart\n",
      "\n",
      "p-valor:  0.0\n",
      "Rechazamos la hipótesis nula: hay una diferencia significativa entre las proporciones en el contexto del evento purchase\n",
      "\n"
     ]
    }
   ],
   "source": [
    "group_z_test('A', 'B')"
   ]
  },
  {
   "cell_type": "code",
   "execution_count": 42,
   "metadata": {},
   "outputs": [
    {
     "name": "stdout",
     "output_type": "stream",
     "text": [
      "Conversión a compra para el grupo А: 69.79%\n"
     ]
    }
   ],
   "source": [
    "print('Conversión a compra para el grupo А: {:.2f}%'.format(len(ab_events[(ab_events['group'] == 'A') & (ab_events['event_name'] == 'purchase')])  /\\\n",
    "len(recommender_system_test_users[recommender_system_test_users['group'] == 'A'])*100))"
   ]
  },
  {
   "cell_type": "code",
   "execution_count": 43,
   "metadata": {},
   "outputs": [
    {
     "name": "stdout",
     "output_type": "stream",
     "text": [
      "Conversión a compra para el grupo B: 24.29%\n"
     ]
    }
   ],
   "source": [
    "print('Conversión a compra para el grupo B: {:.2f}%'.format(len(ab_events[(ab_events['group'] == 'B') & (ab_events['event_name'] == 'purchase')])  /\n",
    "len(recommender_system_test_users[recommender_system_test_users['group'] == 'B'])*100))"
   ]
  },
  {
   "cell_type": "code",
   "execution_count": 44,
   "metadata": {},
   "outputs": [
    {
     "data": {
      "text/html": [
       "<div>\n",
       "<style scoped>\n",
       "    .dataframe tbody tr th:only-of-type {\n",
       "        vertical-align: middle;\n",
       "    }\n",
       "\n",
       "    .dataframe tbody tr th {\n",
       "        vertical-align: top;\n",
       "    }\n",
       "\n",
       "    .dataframe thead th {\n",
       "        text-align: right;\n",
       "    }\n",
       "</style>\n",
       "<table border=\"1\" class=\"dataframe\">\n",
       "  <thead>\n",
       "    <tr style=\"text-align: right;\">\n",
       "      <th></th>\n",
       "      <th>user_id</th>\n",
       "      <th>event_dt</th>\n",
       "      <th>details</th>\n",
       "      <th>event_name</th>\n",
       "      <th>first_date</th>\n",
       "      <th>region</th>\n",
       "      <th>device</th>\n",
       "      <th>group</th>\n",
       "      <th>ab_test</th>\n",
       "      <th>number_of_tests</th>\n",
       "    </tr>\n",
       "  </thead>\n",
       "  <tbody>\n",
       "    <tr>\n",
       "      <th>0</th>\n",
       "      <td>831887FE7F2D6CBA</td>\n",
       "      <td>2020-12-07 06:50:29</td>\n",
       "      <td>4.99</td>\n",
       "      <td>purchase</td>\n",
       "      <td>2020-12-07</td>\n",
       "      <td>EU</td>\n",
       "      <td>Android</td>\n",
       "      <td>A</td>\n",
       "      <td>recommender_system_test</td>\n",
       "      <td>1</td>\n",
       "    </tr>\n",
       "    <tr>\n",
       "      <th>1</th>\n",
       "      <td>831887FE7F2D6CBA</td>\n",
       "      <td>2020-12-09 02:19:17</td>\n",
       "      <td>99.99</td>\n",
       "      <td>purchase</td>\n",
       "      <td>2020-12-07</td>\n",
       "      <td>EU</td>\n",
       "      <td>Android</td>\n",
       "      <td>A</td>\n",
       "      <td>recommender_system_test</td>\n",
       "      <td>1</td>\n",
       "    </tr>\n",
       "    <tr>\n",
       "      <th>2</th>\n",
       "      <td>831887FE7F2D6CBA</td>\n",
       "      <td>2020-12-07 06:50:30</td>\n",
       "      <td>NaN</td>\n",
       "      <td>product_cart</td>\n",
       "      <td>2020-12-07</td>\n",
       "      <td>EU</td>\n",
       "      <td>Android</td>\n",
       "      <td>A</td>\n",
       "      <td>recommender_system_test</td>\n",
       "      <td>1</td>\n",
       "    </tr>\n",
       "    <tr>\n",
       "      <th>3</th>\n",
       "      <td>831887FE7F2D6CBA</td>\n",
       "      <td>2020-12-08 10:52:27</td>\n",
       "      <td>NaN</td>\n",
       "      <td>product_cart</td>\n",
       "      <td>2020-12-07</td>\n",
       "      <td>EU</td>\n",
       "      <td>Android</td>\n",
       "      <td>A</td>\n",
       "      <td>recommender_system_test</td>\n",
       "      <td>1</td>\n",
       "    </tr>\n",
       "    <tr>\n",
       "      <th>4</th>\n",
       "      <td>831887FE7F2D6CBA</td>\n",
       "      <td>2020-12-09 02:19:17</td>\n",
       "      <td>NaN</td>\n",
       "      <td>product_cart</td>\n",
       "      <td>2020-12-07</td>\n",
       "      <td>EU</td>\n",
       "      <td>Android</td>\n",
       "      <td>A</td>\n",
       "      <td>recommender_system_test</td>\n",
       "      <td>1</td>\n",
       "    </tr>\n",
       "    <tr>\n",
       "      <th>...</th>\n",
       "      <td>...</td>\n",
       "      <td>...</td>\n",
       "      <td>...</td>\n",
       "      <td>...</td>\n",
       "      <td>...</td>\n",
       "      <td>...</td>\n",
       "      <td>...</td>\n",
       "      <td>...</td>\n",
       "      <td>...</td>\n",
       "      <td>...</td>\n",
       "    </tr>\n",
       "    <tr>\n",
       "      <th>23415</th>\n",
       "      <td>1484BBF124DB1B18</td>\n",
       "      <td>2020-12-27 10:53:34</td>\n",
       "      <td>NaN</td>\n",
       "      <td>login</td>\n",
       "      <td>2020-12-21</td>\n",
       "      <td>EU</td>\n",
       "      <td>PC</td>\n",
       "      <td>A</td>\n",
       "      <td>recommender_system_test</td>\n",
       "      <td>1</td>\n",
       "    </tr>\n",
       "    <tr>\n",
       "      <th>23416</th>\n",
       "      <td>BEF16764A13AEC34</td>\n",
       "      <td>2020-12-21 03:49:49</td>\n",
       "      <td>NaN</td>\n",
       "      <td>login</td>\n",
       "      <td>2020-12-21</td>\n",
       "      <td>EU</td>\n",
       "      <td>PC</td>\n",
       "      <td>B</td>\n",
       "      <td>recommender_system_test</td>\n",
       "      <td>2</td>\n",
       "    </tr>\n",
       "    <tr>\n",
       "      <th>23417</th>\n",
       "      <td>BEF16764A13AEC34</td>\n",
       "      <td>2020-12-22 18:52:25</td>\n",
       "      <td>NaN</td>\n",
       "      <td>login</td>\n",
       "      <td>2020-12-21</td>\n",
       "      <td>EU</td>\n",
       "      <td>PC</td>\n",
       "      <td>B</td>\n",
       "      <td>recommender_system_test</td>\n",
       "      <td>2</td>\n",
       "    </tr>\n",
       "    <tr>\n",
       "      <th>23418</th>\n",
       "      <td>BEF16764A13AEC34</td>\n",
       "      <td>2020-12-24 22:11:00</td>\n",
       "      <td>NaN</td>\n",
       "      <td>login</td>\n",
       "      <td>2020-12-21</td>\n",
       "      <td>EU</td>\n",
       "      <td>PC</td>\n",
       "      <td>B</td>\n",
       "      <td>recommender_system_test</td>\n",
       "      <td>2</td>\n",
       "    </tr>\n",
       "    <tr>\n",
       "      <th>23419</th>\n",
       "      <td>23DDD27AC3FEFA63</td>\n",
       "      <td>2020-12-21 02:51:45</td>\n",
       "      <td>NaN</td>\n",
       "      <td>login</td>\n",
       "      <td>2020-12-21</td>\n",
       "      <td>EU</td>\n",
       "      <td>PC</td>\n",
       "      <td>A</td>\n",
       "      <td>recommender_system_test</td>\n",
       "      <td>1</td>\n",
       "    </tr>\n",
       "  </tbody>\n",
       "</table>\n",
       "<p>23420 rows × 10 columns</p>\n",
       "</div>"
      ],
      "text/plain": [
       "                user_id            event_dt  details    event_name first_date  \\\n",
       "0      831887FE7F2D6CBA 2020-12-07 06:50:29     4.99      purchase 2020-12-07   \n",
       "1      831887FE7F2D6CBA 2020-12-09 02:19:17    99.99      purchase 2020-12-07   \n",
       "2      831887FE7F2D6CBA 2020-12-07 06:50:30      NaN  product_cart 2020-12-07   \n",
       "3      831887FE7F2D6CBA 2020-12-08 10:52:27      NaN  product_cart 2020-12-07   \n",
       "4      831887FE7F2D6CBA 2020-12-09 02:19:17      NaN  product_cart 2020-12-07   \n",
       "...                 ...                 ...      ...           ...        ...   \n",
       "23415  1484BBF124DB1B18 2020-12-27 10:53:34      NaN         login 2020-12-21   \n",
       "23416  BEF16764A13AEC34 2020-12-21 03:49:49      NaN         login 2020-12-21   \n",
       "23417  BEF16764A13AEC34 2020-12-22 18:52:25      NaN         login 2020-12-21   \n",
       "23418  BEF16764A13AEC34 2020-12-24 22:11:00      NaN         login 2020-12-21   \n",
       "23419  23DDD27AC3FEFA63 2020-12-21 02:51:45      NaN         login 2020-12-21   \n",
       "\n",
       "      region   device group                  ab_test  number_of_tests  \n",
       "0         EU  Android     A  recommender_system_test                1  \n",
       "1         EU  Android     A  recommender_system_test                1  \n",
       "2         EU  Android     A  recommender_system_test                1  \n",
       "3         EU  Android     A  recommender_system_test                1  \n",
       "4         EU  Android     A  recommender_system_test                1  \n",
       "...      ...      ...   ...                      ...              ...  \n",
       "23415     EU       PC     A  recommender_system_test                1  \n",
       "23416     EU       PC     B  recommender_system_test                2  \n",
       "23417     EU       PC     B  recommender_system_test                2  \n",
       "23418     EU       PC     B  recommender_system_test                2  \n",
       "23419     EU       PC     A  recommender_system_test                1  \n",
       "\n",
       "[23420 rows x 10 columns]"
      ]
     },
     "execution_count": 44,
     "metadata": {},
     "output_type": "execute_result"
    }
   ],
   "source": [
    "ab_events"
   ]
  },
  {
   "cell_type": "code",
   "execution_count": 45,
   "metadata": {},
   "outputs": [
    {
     "data": {
      "text/plain": [
       "group\n",
       "A    3634\n",
       "B    2717\n",
       "Name: count, dtype: int64"
      ]
     },
     "execution_count": 45,
     "metadata": {},
     "output_type": "execute_result"
    }
   ],
   "source": [
    "# Revsión del código\n",
    "recommender_system_test_users['group'].value_counts()#, recommender_system_test_users_cut['group'].value_counts()"
   ]
  },
  {
   "cell_type": "markdown",
   "metadata": {},
   "source": [
    "### Verificación de la hipótesis de igualdad de proporciones para los usuarios que participaron solo en 1 prueba (la prueba objetivo)."
   ]
  },
  {
   "cell_type": "code",
   "execution_count": 46,
   "metadata": {},
   "outputs": [],
   "source": [
    "ab_events_second_test = ab_events[ab_events['number_of_tests'] == 1]\n",
    "recommender_system_test_users_cut = recommender_system_test_users[recommender_system_test_users['number_of_tests'] == 1]"
   ]
  },
  {
   "cell_type": "code",
   "execution_count": 47,
   "metadata": {},
   "outputs": [
    {
     "data": {
      "text/html": [
       "<div>\n",
       "<style scoped>\n",
       "    .dataframe tbody tr th:only-of-type {\n",
       "        vertical-align: middle;\n",
       "    }\n",
       "\n",
       "    .dataframe tbody tr th {\n",
       "        vertical-align: top;\n",
       "    }\n",
       "\n",
       "    .dataframe thead th {\n",
       "        text-align: right;\n",
       "    }\n",
       "</style>\n",
       "<table border=\"1\" class=\"dataframe\">\n",
       "  <thead>\n",
       "    <tr style=\"text-align: right;\">\n",
       "      <th>group</th>\n",
       "      <th>A</th>\n",
       "      <th>B</th>\n",
       "    </tr>\n",
       "    <tr>\n",
       "      <th>event_name</th>\n",
       "      <th></th>\n",
       "      <th></th>\n",
       "    </tr>\n",
       "  </thead>\n",
       "  <tbody>\n",
       "    <tr>\n",
       "      <th>login</th>\n",
       "      <td>1939</td>\n",
       "      <td>655</td>\n",
       "    </tr>\n",
       "    <tr>\n",
       "      <th>product_page</th>\n",
       "      <td>1265</td>\n",
       "      <td>367</td>\n",
       "    </tr>\n",
       "    <tr>\n",
       "      <th>product_cart</th>\n",
       "      <td>589</td>\n",
       "      <td>184</td>\n",
       "    </tr>\n",
       "    <tr>\n",
       "      <th>purchase</th>\n",
       "      <td>613</td>\n",
       "      <td>191</td>\n",
       "    </tr>\n",
       "  </tbody>\n",
       "</table>\n",
       "</div>"
      ],
      "text/plain": [
       "group            A    B\n",
       "event_name             \n",
       "login         1939  655\n",
       "product_page  1265  367\n",
       "product_cart   589  184\n",
       "purchase       613  191"
      ]
     },
     "execution_count": 47,
     "metadata": {},
     "output_type": "execute_result"
    }
   ],
   "source": [
    "# Se contruirá una tabla pivot y evaluarán las cifras de conversión de evento a evento.\n",
    "events_users = ab_events_second_test.pivot_table(\n",
    "    index='event_name',\n",
    "    columns='group',\n",
    "    values='user_id',\n",
    "    aggfunc='nunique'\n",
    ").reindex([\"login\", \"product_page\", \"product_cart\", \"purchase\"]) # Con un reindexado, organizaremos los eventos en el orden necesario\n",
    "\n",
    "events_users"
   ]
  },
  {
   "cell_type": "code",
   "execution_count": 48,
   "metadata": {},
   "outputs": [
    {
     "data": {
      "text/html": [
       "<div>\n",
       "<style scoped>\n",
       "    .dataframe tbody tr th:only-of-type {\n",
       "        vertical-align: middle;\n",
       "    }\n",
       "\n",
       "    .dataframe tbody tr th {\n",
       "        vertical-align: top;\n",
       "    }\n",
       "\n",
       "    .dataframe thead th {\n",
       "        text-align: right;\n",
       "    }\n",
       "</style>\n",
       "<table border=\"1\" class=\"dataframe\">\n",
       "  <thead>\n",
       "    <tr style=\"text-align: right;\">\n",
       "      <th></th>\n",
       "      <th>user_id</th>\n",
       "    </tr>\n",
       "    <tr>\n",
       "      <th>group</th>\n",
       "      <th></th>\n",
       "    </tr>\n",
       "  </thead>\n",
       "  <tbody>\n",
       "    <tr>\n",
       "      <th>A</th>\n",
       "      <td>3634</td>\n",
       "    </tr>\n",
       "    <tr>\n",
       "      <th>B</th>\n",
       "      <td>2717</td>\n",
       "    </tr>\n",
       "    <tr>\n",
       "      <th>a_group_total</th>\n",
       "      <td>6351</td>\n",
       "    </tr>\n",
       "  </tbody>\n",
       "</table>\n",
       "</div>"
      ],
      "text/plain": [
       "               user_id\n",
       "group                 \n",
       "A                 3634\n",
       "B                 2717\n",
       "a_group_total     6351"
      ]
     },
     "execution_count": 48,
     "metadata": {},
     "output_type": "execute_result"
    }
   ],
   "source": [
    "# Para simplificar la obtención de la proporción por evento con respecto al número de usuarios en el primer paso\n",
    "\n",
    "users = recommender_system_test_users.groupby('group')['user_id'].nunique().to_frame().reset_index()\n",
    "users.loc[3] = ['a_group_total', len(recommender_system_test_users['user_id'].unique())]\n",
    "users = users.set_index(users.columns[0])\n",
    "users"
   ]
  },
  {
   "cell_type": "code",
   "execution_count": 49,
   "metadata": {},
   "outputs": [
    {
     "name": "stdout",
     "output_type": "stream",
     "text": [
      "p-valor:  0.0\n",
      "Rechazamos la hipótesis nula: hay una diferencia significativa entre las proporciones en el contexto del evento login\n",
      "\n",
      "p-valor:  0.0\n",
      "Rechazamos la hipótesis nula: hay una diferencia significativa entre las proporciones en el contexto del evento product_page\n",
      "\n",
      "p-valor:  0.0\n",
      "Rechazamos la hipótesis nula: hay una diferencia significativa entre las proporciones en el contexto del evento product_cart\n",
      "\n",
      "p-valor:  0.0\n",
      "Rechazamos la hipótesis nula: hay una diferencia significativa entre las proporciones en el contexto del evento purchase\n",
      "\n"
     ]
    }
   ],
   "source": [
    "group_z_test('A', 'B')"
   ]
  },
  {
   "cell_type": "code",
   "execution_count": 50,
   "metadata": {},
   "outputs": [
    {
     "name": "stdout",
     "output_type": "stream",
     "text": [
      "Conversión a compra para el grupo А: 68.34%\n"
     ]
    }
   ],
   "source": [
    "print('Conversión a compra para el grupo А: {:.2f}%'.format(len(ab_events_second_test[(ab_events_second_test['group'] == 'A') & (ab_events_second_test['event_name'] == 'purchase')])  /\\\n",
    "len(recommender_system_test_users_cut[recommender_system_test_users_cut['group'] == 'A'])*100))"
   ]
  },
  {
   "cell_type": "code",
   "execution_count": 51,
   "metadata": {},
   "outputs": [
    {
     "name": "stdout",
     "output_type": "stream",
     "text": [
      "Conversión a compra para el grupo B: 24.26%\n"
     ]
    }
   ],
   "source": [
    "\n",
    "print('Conversión a compra para el grupo B: {:.2f}%'.format(len(ab_events_second_test[(ab_events_second_test['group'] == 'B') & (ab_events_second_test['event_name'] == 'purchase')])  /\\\n",
    "len(recommender_system_test_users_cut[recommender_system_test_users_cut['group'] == 'B'])*100))"
   ]
  },
  {
   "cell_type": "markdown",
   "metadata": {},
   "source": [
    "Según los resultados de la prueba Z, se observa lo siguiente:\n",
    "\n",
    "1.  En el grupo A, la conversión a compra es 2.5 veces mayor.\n",
    "2.  Independientemente de la presencia/ausencia de un grupo de \"usuarios dobles\" en la muestra, los valores de conversión son comparables.\n",
    "\n",
    "\n",
    "## Distribución de eventos por fechas.\n",
    "\n",
    "Veamos el calendario de actividades de marketing y seleccionemos las que coinciden con el período de prueba."
   ]
  },
  {
   "cell_type": "code",
   "execution_count": 52,
   "metadata": {},
   "outputs": [
    {
     "data": {
      "text/html": [
       "<div>\n",
       "<style scoped>\n",
       "    .dataframe tbody tr th:only-of-type {\n",
       "        vertical-align: middle;\n",
       "    }\n",
       "\n",
       "    .dataframe tbody tr th {\n",
       "        vertical-align: top;\n",
       "    }\n",
       "\n",
       "    .dataframe thead th {\n",
       "        text-align: right;\n",
       "    }\n",
       "</style>\n",
       "<table border=\"1\" class=\"dataframe\">\n",
       "  <thead>\n",
       "    <tr style=\"text-align: right;\">\n",
       "      <th></th>\n",
       "      <th>name</th>\n",
       "      <th>regions</th>\n",
       "      <th>start_dt</th>\n",
       "      <th>finish_dt</th>\n",
       "    </tr>\n",
       "  </thead>\n",
       "  <tbody>\n",
       "    <tr>\n",
       "      <th>0</th>\n",
       "      <td>Christmas&amp;New Year Promo</td>\n",
       "      <td>EU, N.America</td>\n",
       "      <td>2020-12-25</td>\n",
       "      <td>2021-01-03</td>\n",
       "    </tr>\n",
       "    <tr>\n",
       "      <th>1</th>\n",
       "      <td>St. Valentine's Day Giveaway</td>\n",
       "      <td>EU, CIS, APAC, N.America</td>\n",
       "      <td>2020-02-14</td>\n",
       "      <td>2020-02-16</td>\n",
       "    </tr>\n",
       "    <tr>\n",
       "      <th>2</th>\n",
       "      <td>St. Patric's Day Promo</td>\n",
       "      <td>EU, N.America</td>\n",
       "      <td>2020-03-17</td>\n",
       "      <td>2020-03-19</td>\n",
       "    </tr>\n",
       "    <tr>\n",
       "      <th>3</th>\n",
       "      <td>Easter Promo</td>\n",
       "      <td>EU, CIS, APAC, N.America</td>\n",
       "      <td>2020-04-12</td>\n",
       "      <td>2020-04-19</td>\n",
       "    </tr>\n",
       "    <tr>\n",
       "      <th>4</th>\n",
       "      <td>4th of July Promo</td>\n",
       "      <td>N.America</td>\n",
       "      <td>2020-07-04</td>\n",
       "      <td>2020-07-11</td>\n",
       "    </tr>\n",
       "    <tr>\n",
       "      <th>5</th>\n",
       "      <td>Black Friday Ads Campaign</td>\n",
       "      <td>EU, CIS, APAC, N.America</td>\n",
       "      <td>2020-11-26</td>\n",
       "      <td>2020-12-01</td>\n",
       "    </tr>\n",
       "    <tr>\n",
       "      <th>6</th>\n",
       "      <td>Chinese New Year Promo</td>\n",
       "      <td>APAC</td>\n",
       "      <td>2020-01-25</td>\n",
       "      <td>2020-02-07</td>\n",
       "    </tr>\n",
       "    <tr>\n",
       "      <th>7</th>\n",
       "      <td>Labor day (May 1st) Ads Campaign</td>\n",
       "      <td>EU, CIS, APAC</td>\n",
       "      <td>2020-05-01</td>\n",
       "      <td>2020-05-03</td>\n",
       "    </tr>\n",
       "    <tr>\n",
       "      <th>8</th>\n",
       "      <td>International Women's Day Promo</td>\n",
       "      <td>EU, CIS, APAC</td>\n",
       "      <td>2020-03-08</td>\n",
       "      <td>2020-03-10</td>\n",
       "    </tr>\n",
       "    <tr>\n",
       "      <th>9</th>\n",
       "      <td>Victory Day CIS (May 9th) Event</td>\n",
       "      <td>CIS</td>\n",
       "      <td>2020-05-09</td>\n",
       "      <td>2020-05-11</td>\n",
       "    </tr>\n",
       "    <tr>\n",
       "      <th>10</th>\n",
       "      <td>CIS New Year Gift Lottery</td>\n",
       "      <td>CIS</td>\n",
       "      <td>2020-12-30</td>\n",
       "      <td>2021-01-07</td>\n",
       "    </tr>\n",
       "    <tr>\n",
       "      <th>11</th>\n",
       "      <td>Dragon Boat Festival Giveaway</td>\n",
       "      <td>APAC</td>\n",
       "      <td>2020-06-25</td>\n",
       "      <td>2020-07-01</td>\n",
       "    </tr>\n",
       "    <tr>\n",
       "      <th>12</th>\n",
       "      <td>Single's Day Gift Promo</td>\n",
       "      <td>APAC</td>\n",
       "      <td>2020-11-11</td>\n",
       "      <td>2020-11-12</td>\n",
       "    </tr>\n",
       "    <tr>\n",
       "      <th>13</th>\n",
       "      <td>Chinese Moon Festival</td>\n",
       "      <td>APAC</td>\n",
       "      <td>2020-10-01</td>\n",
       "      <td>2020-10-07</td>\n",
       "    </tr>\n",
       "  </tbody>\n",
       "</table>\n",
       "</div>"
      ],
      "text/plain": [
       "                                name                   regions   start_dt  \\\n",
       "0           Christmas&New Year Promo             EU, N.America 2020-12-25   \n",
       "1       St. Valentine's Day Giveaway  EU, CIS, APAC, N.America 2020-02-14   \n",
       "2             St. Patric's Day Promo             EU, N.America 2020-03-17   \n",
       "3                       Easter Promo  EU, CIS, APAC, N.America 2020-04-12   \n",
       "4                  4th of July Promo                 N.America 2020-07-04   \n",
       "5          Black Friday Ads Campaign  EU, CIS, APAC, N.America 2020-11-26   \n",
       "6             Chinese New Year Promo                      APAC 2020-01-25   \n",
       "7   Labor day (May 1st) Ads Campaign             EU, CIS, APAC 2020-05-01   \n",
       "8    International Women's Day Promo             EU, CIS, APAC 2020-03-08   \n",
       "9    Victory Day CIS (May 9th) Event                       CIS 2020-05-09   \n",
       "10         CIS New Year Gift Lottery                       CIS 2020-12-30   \n",
       "11     Dragon Boat Festival Giveaway                      APAC 2020-06-25   \n",
       "12           Single's Day Gift Promo                      APAC 2020-11-11   \n",
       "13             Chinese Moon Festival                      APAC 2020-10-01   \n",
       "\n",
       "    finish_dt  \n",
       "0  2021-01-03  \n",
       "1  2020-02-16  \n",
       "2  2020-03-19  \n",
       "3  2020-04-19  \n",
       "4  2020-07-11  \n",
       "5  2020-12-01  \n",
       "6  2020-02-07  \n",
       "7  2020-05-03  \n",
       "8  2020-03-10  \n",
       "9  2020-05-11  \n",
       "10 2021-01-07  \n",
       "11 2020-07-01  \n",
       "12 2020-11-12  \n",
       "13 2020-10-07  "
      ]
     },
     "execution_count": 52,
     "metadata": {},
     "output_type": "execute_result"
    }
   ],
   "source": [
    "ab_project_marketing_events"
   ]
  },
  {
   "cell_type": "code",
   "execution_count": 53,
   "metadata": {},
   "outputs": [
    {
     "data": {
      "text/html": [
       "<div>\n",
       "<style scoped>\n",
       "    .dataframe tbody tr th:only-of-type {\n",
       "        vertical-align: middle;\n",
       "    }\n",
       "\n",
       "    .dataframe tbody tr th {\n",
       "        vertical-align: top;\n",
       "    }\n",
       "\n",
       "    .dataframe thead th {\n",
       "        text-align: right;\n",
       "    }\n",
       "</style>\n",
       "<table border=\"1\" class=\"dataframe\">\n",
       "  <thead>\n",
       "    <tr style=\"text-align: right;\">\n",
       "      <th></th>\n",
       "      <th>name</th>\n",
       "      <th>regions</th>\n",
       "      <th>start_dt</th>\n",
       "      <th>finish_dt</th>\n",
       "    </tr>\n",
       "  </thead>\n",
       "  <tbody>\n",
       "    <tr>\n",
       "      <th>0</th>\n",
       "      <td>Christmas&amp;New Year Promo</td>\n",
       "      <td>EU, N.America</td>\n",
       "      <td>2020-12-25</td>\n",
       "      <td>2021-01-03</td>\n",
       "    </tr>\n",
       "    <tr>\n",
       "      <th>10</th>\n",
       "      <td>CIS New Year Gift Lottery</td>\n",
       "      <td>CIS</td>\n",
       "      <td>2020-12-30</td>\n",
       "      <td>2021-01-07</td>\n",
       "    </tr>\n",
       "  </tbody>\n",
       "</table>\n",
       "</div>"
      ],
      "text/plain": [
       "                         name        regions   start_dt  finish_dt\n",
       "0    Christmas&New Year Promo  EU, N.America 2020-12-25 2021-01-03\n",
       "10  CIS New Year Gift Lottery            CIS 2020-12-30 2021-01-07"
      ]
     },
     "execution_count": 53,
     "metadata": {},
     "output_type": "execute_result"
    }
   ],
   "source": [
    "ab_project_marketing_events[\n",
    "    (ab_project_marketing_events['start_dt'] >= '2020-11-30') & (\n",
    "        ab_project_marketing_events['start_dt'] <= '2021-01-04')]"
   ]
  },
  {
   "cell_type": "code",
   "execution_count": 54,
   "metadata": {},
   "outputs": [
    {
     "data": {
      "image/png": "[encoded data removed]",
      "text/plain": [
       "<Figure size 1500x1000 with 1 Axes>"
      ]
     },
     "metadata": {},
     "output_type": "display_data"
    }
   ],
   "source": [
    "# visualizamos los eventos\n",
    "x = ab_events['event_dt']\n",
    "sns.set_style('darkgrid')\n",
    "\n",
    "fig, ax = plt.subplots(figsize=(15, 10))\n",
    "plt.grid(axis='both')\n",
    "plt.xticks(rotation=45)\n",
    "plt.title('Distribución de observaciones por fechas')\n",
    "plt.grid(axis='both')\n",
    "plt.xlabel('Fecha', fontsize=12)\n",
    "plt.ylabel('Cantidad de eventos', fontsize=12)\n",
    "\n",
    "ax.hist(x,\n",
    "        bins=30\n",
    "       )\n",
    "\n",
    "plt.axvline(x='2020-12-25', color='green', linestyle='--', label='Inicio de la Promo de Navidad y Año Nuevo')\n",
    "plt.axvline(x='2021-01-03', color='black', linestyle='--', label='Fin de la Promo de Navidad y Año Nuevo')\n",
    "plt.axvline(x='2020-12-18', color='red', linestyle='--', label='1 Semana Antes de la Promo de Navidad y Año Nuevo')\n",
    "\n",
    "plt.legend()\n",
    "plt.show()\n"
   ]
  },
  {
   "cell_type": "markdown",
   "metadata": {},
   "source": [
    "\n",
    "Como podemos ver en el gráfico, los eventos dentro del test tienen una fuerte intersección con las actividades de marketing navideñas. Además, se debe tener en cuenta que el hecho de la Navidad (línea verde) en sí mismo potencialmente puede ser un indicador de aumento de ventas, ya que las personas compran regalos.\n",
    "\n",
    "Este hecho compromete adicionalmente los resultados del test.\n",
    "\n",
    "## Embudo de conversión"
   ]
  },
  {
   "cell_type": "code",
   "execution_count": 55,
   "metadata": {},
   "outputs": [
    {
     "data": {
      "text/html": [
       "<div>\n",
       "<style scoped>\n",
       "    .dataframe tbody tr th:only-of-type {\n",
       "        vertical-align: middle;\n",
       "    }\n",
       "\n",
       "    .dataframe tbody tr th {\n",
       "        vertical-align: top;\n",
       "    }\n",
       "\n",
       "    .dataframe thead th {\n",
       "        text-align: right;\n",
       "    }\n",
       "</style>\n",
       "<table border=\"1\" class=\"dataframe\">\n",
       "  <thead>\n",
       "    <tr style=\"text-align: right;\">\n",
       "      <th></th>\n",
       "      <th>group</th>\n",
       "      <th>event_name</th>\n",
       "      <th>event_dt</th>\n",
       "      <th>user_id</th>\n",
       "    </tr>\n",
       "  </thead>\n",
       "  <tbody>\n",
       "    <tr>\n",
       "      <th>0</th>\n",
       "      <td>A</td>\n",
       "      <td>login</td>\n",
       "      <td>8124</td>\n",
       "      <td>2604</td>\n",
       "    </tr>\n",
       "    <tr>\n",
       "      <th>2</th>\n",
       "      <td>A</td>\n",
       "      <td>product_page</td>\n",
       "      <td>5227</td>\n",
       "      <td>1685</td>\n",
       "    </tr>\n",
       "    <tr>\n",
       "      <th>1</th>\n",
       "      <td>A</td>\n",
       "      <td>product_cart</td>\n",
       "      <td>2422</td>\n",
       "      <td>782</td>\n",
       "    </tr>\n",
       "    <tr>\n",
       "      <th>3</th>\n",
       "      <td>A</td>\n",
       "      <td>purchase</td>\n",
       "      <td>2536</td>\n",
       "      <td>833</td>\n",
       "    </tr>\n",
       "    <tr>\n",
       "      <th>4</th>\n",
       "      <td>B</td>\n",
       "      <td>login</td>\n",
       "      <td>2471</td>\n",
       "      <td>877</td>\n",
       "    </tr>\n",
       "    <tr>\n",
       "      <th>6</th>\n",
       "      <td>B</td>\n",
       "      <td>product_page</td>\n",
       "      <td>1327</td>\n",
       "      <td>493</td>\n",
       "    </tr>\n",
       "    <tr>\n",
       "      <th>5</th>\n",
       "      <td>B</td>\n",
       "      <td>product_cart</td>\n",
       "      <td>653</td>\n",
       "      <td>244</td>\n",
       "    </tr>\n",
       "    <tr>\n",
       "      <th>7</th>\n",
       "      <td>B</td>\n",
       "      <td>purchase</td>\n",
       "      <td>660</td>\n",
       "      <td>249</td>\n",
       "    </tr>\n",
       "  </tbody>\n",
       "</table>\n",
       "</div>"
      ],
      "text/plain": [
       "  group    event_name  event_dt  user_id\n",
       "0     A         login      8124     2604\n",
       "2     A  product_page      5227     1685\n",
       "1     A  product_cart      2422      782\n",
       "3     A      purchase      2536      833\n",
       "4     B         login      2471      877\n",
       "6     B  product_page      1327      493\n",
       "5     B  product_cart       653      244\n",
       "7     B      purchase       660      249"
      ]
     },
     "execution_count": 55,
     "metadata": {},
     "output_type": "execute_result"
    }
   ],
   "source": [
    "funnel_data = ab_events.groupby(['group', 'event_name'], as_index=False).agg(\n",
    "    {'event_dt': 'count', 'user_id': 'nunique'}\n",
    ").reindex([0, 2, 1, 3, 4, 6, 5, 7])\n",
    "funnel_data"
   ]
  },
  {
   "cell_type": "code",
   "execution_count": 66,
   "metadata": {},
   "outputs": [
    {
     "name": "stdout",
     "output_type": "stream",
     "text": [
      "Image saved to /Users/Acer/Documents/plotly_export/funnel3.png\n"
     ]
    }
   ],
   "source": [
    "import plotly.graph_objects as go\n",
    "from PIL import Image\n",
    "import io\n",
    "import os  # Asegúrate de incluir esta importación si falta\n",
    "\n",
    "# Asumiendo que 'funnel_data' está correctamente definido y accesible\n",
    "\n",
    "# Mejora en la preparación de los datos\n",
    "df_group_a = funnel_data[funnel_data['group'] == 'A'].groupby('event_name').size().reset_index(name='user_id').sort_values(by='user_id', ascending=False)\n",
    "df_group_b = funnel_data[funnel_data['group'] == 'B'].groupby('event_name').size().reset_index(name='user_id').sort_values(by='user_id', ascending=False)\n",
    "\n",
    "fig = go.Figure()\n",
    "\n",
    "# Trazado de datos para el grupo A\n",
    "fig.add_trace(go.Funnel(\n",
    "    name='Group \"A\"',\n",
    "    y=df_group_a['event_name'],\n",
    "    x=df_group_a['user_id']\n",
    "))\n",
    "\n",
    "# Trazado de datos para el grupo B\n",
    "fig.add_trace(go.Funnel(\n",
    "    name='Group \"B\"',\n",
    "    y=df_group_b['event_name'],\n",
    "    x=df_group_b['user_id']\n",
    "))\n",
    "\n",
    "fig.update_layout(title_text=\"Embudo de eventos para todo el conjunto de datos con separación por grupos\")\n",
    "\n",
    "# Comprobación y creación del directorio si no existe\n",
    "output_path = \"/Users/Acer/Documents/plotly_export\"\n",
    "output_file = f\"{output_path}/funnel3.png\"\n",
    "os.makedirs(output_path, exist_ok=True)\n",
    "\n",
    "# Guardar la figura como imagen\n",
    "fig.write_image(output_file)\n",
    "print(f\"Image saved to {output_file}\")\n",
    "\n",
    "# Crear y mostrar una imagen utilizando PIL para confirmar que se guarda correctamente\n",
    "img_bytes = fig.to_image(format=\"png\")\n",
    "image = Image.open(io.BytesIO(img_bytes))\n",
    "image.show()\n"
   ]
  },
  {
   "cell_type": "code",
   "execution_count": 82,
   "metadata": {},
   "outputs": [
    {
     "data": {
      "image/png": "[encoded data removed]",
      "text/plain": [
       "<Figure size 640x480 with 1 Axes>"
      ]
     },
     "metadata": {},
     "output_type": "display_data"
    }
   ],
   "source": [
    "fig = go.Figure()\n",
    "\n",
    "fig.add_trace(go.Funnel(\n",
    "    name='Group \"A\"',\n",
    "    y = funnel_data[funnel_data['group'] == 'A'].sort_values(by='user_id', ascending=False)['event_name'],\n",
    "    x = funnel_data[funnel_data['group'] == 'A'].sort_values(by='user_id', ascending=False)['user_id']))\n",
    "\n",
    "\n",
    "fig.add_trace(go.Funnel(\n",
    "    name='Group \"B\"',\n",
    "    y = funnel_data[funnel_data['group'] == 'B'].sort_values(by='user_id', ascending=False)['event_name'],\n",
    "    x = funnel_data[funnel_data['group'] == 'B'].sort_values(by='user_id', ascending=False)['user_id']))\n",
    "\n",
    "fig.update_layout(title_text=\"Embudo de eventos para todo el conjunto de datos con separación por grupos\")\n",
    "\n",
    "\n",
    "\n",
    "# Cargar y mostrar la imagen\n",
    "img = mpimg.imread('/Users/Acer/Desktop/TipleTen/sprint_13/Proyecto Final/funnel3.png')\n",
    "plt.imshow(img)\n",
    "plt.show()\n",
    "\n",
    "\n"
   ]
  },
  {
   "cell_type": "code",
   "execution_count": 80,
   "metadata": {},
   "outputs": [
    {
     "name": "stdout",
     "output_type": "stream",
     "text": [
      "La conversión de usuarios logueados a compras en el grupo A es: 31.61%\n",
      "La conversión de usuarios logueados a compras en el grupo B es: 29.16%\n",
      "La relación de conversión a compras en el grupo B respecto al grupo A es: 92.24%\n"
     ]
    }
   ],
   "source": [
    "print('La conversión de usuarios logueados a compras en el grupo A es: {:.2f}%'.format(events_users.loc['purchase']['A']/events_users.loc['login']['A']*100))\n",
    "print('La conversión de usuarios logueados a compras en el grupo B es: {:.2f}%'.format(events_users.loc['purchase']['B']/events_users.loc['login']['B']*100))\n",
    "print('La relación de conversión a compras en el grupo B respecto al grupo A es: {:.2f}%'.format((events_users.loc['purchase']['B']/events_users.loc['login']['B'])/(events_users.loc['purchase']['A']/events_users.loc['login']['A'])*100))\n"
   ]
  },
  {
   "cell_type": "markdown",
   "metadata": {},
   "source": [
    "Observamos una reducción en la conversión a compras de casi el 12% en el grupo de prueba. De acuerdo con la hipótesis previamente verificada sobre la igualdad de proporciones, tal diferencia es estadísticamente significativa. Por lo tanto, podemos hablar de un fracaso en el test.\n",
    "\n",
    "## **Conclusiones**  \n",
    "Durante el proceso de procesamiento de datos, se identificaron varios problemas que comprometen los datos utilizados para evaluar los resultados de la prueba A/B:  \n",
    "- Según las especificaciones técnicas, la fecha de finalización del test fue el 4 de enero de 2021, sin embargo, en el conjunto de datos solo se reflejan eventos hasta finales de 2020, lo que sugiere la pérdida de parte de los datos durante el procesamiento o la descarga.  \n",
    "- Se estableció que dentro del marco del test ocurre una superposición de participantes de dos tests.  \n",
    "- Se determinó que los eventos dentro del test tienen una superposición significativa con las actividades de marketing navideñas.  \n",
    "- Se encontró que solo el 55% de los usuarios de la muestra limpia generaron eventos en el período especificado. Existe la posibilidad de que ocurriera un error en el registro de la actividad de los usuarios o un problema durante el proceso de descarga de datos.  \n",
    "\n",
    "**Análisis de los resultados de la prueba A/B:**  \n",
    "- En el grupo A, la conversión a compra es 2.5 veces mayor.  \n",
    "- Independientemente de la presencia/ausencia de un grupo de \"usuarios dobles\" en la muestra, los valores de conversión son comparables.  \n",
    "- Se determinó que la conversión de un evento de inicio de sesión en el sitio a un evento de compra en el grupo B disminuyó en un 12%, lo que indica el fracaso en la prueba de la nueva funcionalidad.  \n",
    "\n",
    "**Recomendación** - Demasiados factores diferentes comprometen la efectividad de la prueba, por lo que no se deberían considerar sus resultados como completamente objetivos. Si se tenían \"grandes\" expectativas respecto a la iniciativa probada, vale la pena considerar una nueva prueba en condiciones más aisladas y prestar especial atención a la recopilación de datos sobre la prueba realizada."
   ]
  }
 ],
 "metadata": {
  "kernelspec": {
   "display_name": "Python 3",
   "language": "python",
   "name": "python3"
  },
  "language_info": {
   "codemirror_mode": {
    "name": "ipython",
    "version": 3
   },
   "file_extension": ".py",
   "mimetype": "text/x-python",
   "name": "python",
   "nbconvert_exporter": "python",
   "pygments_lexer": "ipython3",
   "version": "3.12.1"
  }
 },
 "nbformat": 4,
 "nbformat_minor": 2
}
